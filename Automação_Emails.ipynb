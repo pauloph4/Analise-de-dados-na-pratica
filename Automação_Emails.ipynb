{
 "cells": [
  {
   "cell_type": "markdown",
   "id": "a8620261",
   "metadata": {},
   "source": [
    "# Automação do Envio de E-mails"
   ]
  },
  {
   "cell_type": "markdown",
   "id": "33dbd477",
   "metadata": {},
   "source": [
    "### Qual o passo a passo para automatizar esse processo?"
   ]
  },
  {
   "cell_type": "code",
   "execution_count": 1,
   "id": "ba41b07a",
   "metadata": {},
   "outputs": [],
   "source": [
    "# Abrir o navegador\n",
    "# Abrir o Yahoo\n",
    "# Escrever o e-mail\n",
    "# Formatar o e-mail\n",
    "# Anexar o(s) arquivo(s)\n",
    "# Repetir o processo de escrever o e-mail n vezes."
   ]
  },
  {
   "cell_type": "markdown",
   "id": "62697d4f",
   "metadata": {},
   "source": [
    "### Importando as bibliotecas necessárias"
   ]
  },
  {
   "cell_type": "code",
   "execution_count": 2,
   "id": "5bf33060",
   "metadata": {},
   "outputs": [],
   "source": [
    "import pyautogui\n",
    "import pyperclip\n",
    "import time"
   ]
  },
  {
   "cell_type": "markdown",
   "id": "97aa0e81",
   "metadata": {},
   "source": [
    "### Criando a automação"
   ]
  },
  {
   "cell_type": "code",
   "execution_count": 3,
   "id": "647804da",
   "metadata": {},
   "outputs": [],
   "source": [
    "# faz com que durante a execução do codigo o intepretador espere 1 segundo para executar a prxima linha de código.\n",
    "# isso por que a velocidade do computador dificilmente vai acompanhar a velocidade de execução do código.\n",
    "pyautogui.PAUSE = 1\n",
    "\n",
    "# Passo 1 - Abrir uma nova aba do navegador\n",
    "\n",
    "pyautogui.hotkey('ctrl', 't')"
   ]
  },
  {
   "cell_type": "code",
   "execution_count": 4,
   "id": "bcee9165",
   "metadata": {},
   "outputs": [],
   "source": [
    "# Passo 2 - abrir o Yahoo\n",
    "\n",
    "# escreve o nome do provedor de email na barra do browser\n",
    "pyautogui.write('https://mail.yahoo.com/')\n",
    "\n",
    "# pressiona a tecla enter para ir até o endereço\n",
    "pyautogui.press('enter')\n",
    "\n",
    "# espera 5 segundos antes de continuar para a próxima ação, pois, a velocidade da internet pode prejudicar a execução do código.\n",
    "time.sleep(5) "
   ]
  },
  {
   "cell_type": "code",
   "execution_count": 5,
   "id": "725b2e2e",
   "metadata": {},
   "outputs": [],
   "source": [
    "# Passo 3 - Escrever o e-mail\n",
    "\n",
    "#abri o arquivo com os endereços de e-mails que preciso enviar as mensagens.\n",
    "lista_emails = open('C:/Users/paulo_001/Documents/Relatorios/Lista_emails.txt','r') \n",
    "\n",
    "#  transforma a lista de emails em uma sequencia do tipo lista\n",
    "emails = lista_emails.read()\n",
    "tamanho = emails.split(\"\\n\")\n",
    "\n",
    "#abri o arquivo com o texto que vai estar no corpo dos e-mails que preciso enviar e faz a leitura deles.\n",
    "CorpoEmail = open('C:/Users/paulo_001/Documents/Relatorios/Relatorio.txt', 'r', encoding='windows 1252' )\n",
    "conteudo = CorpoEmail.read()"
   ]
  },
  {
   "cell_type": "code",
   "execution_count": 6,
   "id": "d7503b2e",
   "metadata": {},
   "outputs": [],
   "source": [
    "# essa linha garante que a partir de agora sempre que o arquivo for lido e ele vai ser lido do inicio.\n",
    "lista_emails.seek(0)\n",
    "\n",
    "# loop que vai indicar quantas vezes a tarefa de criar um email vai ser feita\n",
    "# a quantidade de e-mails enviados depende da quantidade de e-mails que estiverem no arquivo com a lista de e-mails.\n",
    "\n",
    "for item in tamanho:\n",
    "\n",
    "    # clica no botão escrever (novo e-mail) dentro do provedor de e-mail\n",
    "    pyautogui.click(x=95, y=244)\n",
    "    \n",
    "    #faz a leitura de cada linha do arquivo com os e-mails, ou seja, faz a leitura de cada e-mail\n",
    "    email = lista_emails.readline()\n",
    "    \n",
    "    # copia e cola o endereço de e-mail no campo correspondente\n",
    "    pyperclip.copy(email)\n",
    "    pyautogui.hotkey('ctrl', 'v')\n",
    "\n",
    "    # posiciona o cursor no campo assunto\n",
    "    pyautogui.press('tab')\n",
    "    pyautogui.press('tab')\n",
    "    pyautogui.press('tab')\n",
    "    \n",
    "    # copia e cola o assunto de cada e-mail\n",
    "    assunto = 'Relatório Gerencial'\n",
    "    pyperclip.copy(assunto)\n",
    "    pyautogui.hotkey('ctrl', 'v')\n",
    "    \n",
    "    # posiciona o cursor no campo corpo do e-mail\n",
    "    pyautogui.press('tab')\n",
    "    \n",
    "    # copia e cola o conteudo que vai no corpo do e-mail\n",
    "    pyperclip.copy(conteudo)\n",
    "    pyautogui.hotkey('ctrl', 'v')\n",
    "    \n",
    "    # espera 1 segundo e clica nos botões referente a anexação de arquivos.\n",
    "    time.sleep(1)\n",
    "    pyautogui.click(x=364, y=691)\n",
    "    pyautogui.click(x=466, y=651)\n",
    "     \n",
    "    # espera 1 segundo e seleciona o arquivo que vai ser anexado e da enter.\n",
    "    time.sleep(1)\n",
    "    pyautogui.write('Relatorio.pdf')\n",
    "    pyautogui.press('enter')\n",
    "    \n",
    "# fecha os dois arquivos que foram abertos\n",
    "lista_emails.close()\n",
    "CorpoEmail.close()"
   ]
  }
 ],
 "metadata": {
  "kernelspec": {
   "display_name": "Python 3",
   "language": "python",
   "name": "python3"
  },
  "language_info": {
   "codemirror_mode": {
    "name": "ipython",
    "version": 3
   },
   "file_extension": ".py",
   "mimetype": "text/x-python",
   "name": "python",
   "nbconvert_exporter": "python",
   "pygments_lexer": "ipython3",
   "version": "3.8.8"
  }
 },
 "nbformat": 4,
 "nbformat_minor": 5
}
