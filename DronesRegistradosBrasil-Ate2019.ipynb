{
 "cells": [
  {
   "cell_type": "markdown",
   "id": "62a13f6d",
   "metadata": {},
   "source": [
    "# Contexto da Análise"
   ]
  },
  {
   "cell_type": "markdown",
   "id": "cb01f25b",
   "metadata": {},
   "source": [
    "Acredito que a pratica faz a perfeição, então, desde que comecei a gostar e aprender sobre analise dados decide que colocaria em pratica o que estou aprendendo. Então, essa analise assim como as outras do meu repositório são meramente para fins de aprendizado e de expor meu trabalho para quem se interessa em aprender comigo ou pelo meu trabalho.\n",
    "\n",
    "Para isso, a princípio sempre usarei dados abertos fornecidos por governos, universidades e sites especializados nesse quesito como Kaggle.\n",
    "\n",
    "Em relação ao conjunto de dados que escolhi para esta análise uma tecnologia que tem se tornado cada vez mais importante para uso profissional e também para entretenimento: os drones.\n",
    "\n",
    "Hoje em dia grades empresas fazem uso de drones para monitorar seus processos e a produção, instituições como a polícia e o exército os usam para monitorar áreas de risco, empresas montam grandes shows luminosos e pessoas utilizam para se divertir. Como consequência desse grande \"boom\" na aquisição de drones é cada vez mais necessário que os órgãos responsáveis fiscalizem essa prática, e por isso essa análise é uma excelente forma de entender como essa fiscalização está sendo feita e também conhecer um pouco mais da utilização deles no Brasil.\n",
    "\n",
    "### A fonte dados foi atualizada pela ultima vez em 2019, então os dados podem estar desatualizados."
   ]
  },
  {
   "cell_type": "markdown",
   "id": "c430b5c0",
   "metadata": {},
   "source": [
    "### Fonte: https://dados.gov.br/dataset/aeronaves-drones-cadastrados"
   ]
  },
  {
   "cell_type": "code",
   "execution_count": 1,
   "id": "d6b68a0c",
   "metadata": {},
   "outputs": [
    {
     "name": "stdout",
     "output_type": "stream",
     "text": [
      "Author: Paulo Henrique Pinto\n",
      "\n",
      "seaborn   : 0.11.1\n",
      "pandas    : 1.2.4\n",
      "matplotlib: 3.2.1\n",
      "\n"
     ]
    }
   ],
   "source": [
    "import pandas as pd\n",
    "import matplotlib\n",
    "import matplotlib.pyplot as plt\n",
    "import seaborn as sns\n",
    "import warnings\n",
    "\n",
    "warnings.filterwarnings(\"ignore\", category=FutureWarning)\n",
    "\n",
    "%reload_ext watermark\n",
    "%watermark -a \"Paulo Henrique Pinto\" --iversions"
   ]
  },
  {
   "cell_type": "markdown",
   "id": "075d534b",
   "metadata": {},
   "source": [
    "## Importando o conjunto de dados"
   ]
  },
  {
   "cell_type": "code",
   "execution_count": 2,
   "id": "10a2f69d",
   "metadata": {},
   "outputs": [],
   "source": [
    "# Carregando os dados\n",
    "\n",
    "dataset = pd.read_csv(\"SISANT.csv\", sep= ';',\n",
    "                      encoding = 'utf-8',\n",
    "                      engine = 'python',\n",
    "                      decimal = \".\",\n",
    "                      error_bad_lines=False,\n",
    "                      warn_bad_lines=False)"
   ]
  },
  {
   "cell_type": "code",
   "execution_count": 3,
   "id": "54e93ad7",
   "metadata": {},
   "outputs": [
    {
     "data": {
      "text/html": [
       "<div>\n",
       "<style scoped>\n",
       "    .dataframe tbody tr th:only-of-type {\n",
       "        vertical-align: middle;\n",
       "    }\n",
       "\n",
       "    .dataframe tbody tr th {\n",
       "        vertical-align: top;\n",
       "    }\n",
       "\n",
       "    .dataframe thead th {\n",
       "        text-align: right;\n",
       "    }\n",
       "</style>\n",
       "<table border=\"1\" class=\"dataframe\">\n",
       "  <thead>\n",
       "    <tr style=\"text-align: right;\">\n",
       "      <th></th>\n",
       "      <th>CodigoAeronave</th>\n",
       "      <th>DataValidade</th>\n",
       "      <th>Operador</th>\n",
       "      <th>CPF/CNPJ</th>\n",
       "      <th>TipoUso</th>\n",
       "      <th>Fabricante</th>\n",
       "      <th>Modelo</th>\n",
       "      <th>NumeroSerie</th>\n",
       "      <th>PesoMaximoDecolagem</th>\n",
       "      <th>CidadeEstado</th>\n",
       "      <th>RamoAtividade</th>\n",
       "    </tr>\n",
       "  </thead>\n",
       "  <tbody>\n",
       "    <tr>\n",
       "      <th>0</th>\n",
       "      <td>PP- 40211550</td>\n",
       "      <td>05/05/2023</td>\n",
       "      <td>Companhia de inteligência urbana e servicos S/A</td>\n",
       "      <td>40.211.550/0001-74</td>\n",
       "      <td>Não Recreativo</td>\n",
       "      <td>DJI</td>\n",
       "      <td>Phantom 4 Pro</td>\n",
       "      <td>11UDH38R710533</td>\n",
       "      <td>1.38</td>\n",
       "      <td>Fortaleza-CE</td>\n",
       "      <td>Aerolevantamento - Aerofotogrametria</td>\n",
       "    </tr>\n",
       "    <tr>\n",
       "      <th>1</th>\n",
       "      <td>PP-000000001</td>\n",
       "      <td>26/03/2023</td>\n",
       "      <td>JUORDAN GUSS PEDRONI</td>\n",
       "      <td>080.XXX.XXX-60</td>\n",
       "      <td>Não Recreativo</td>\n",
       "      <td>DJI</td>\n",
       "      <td>Mavic</td>\n",
       "      <td>08qde2r01204xu</td>\n",
       "      <td>1.00</td>\n",
       "      <td>Colatina-ES</td>\n",
       "      <td>Aerocinematografia</td>\n",
       "    </tr>\n",
       "    <tr>\n",
       "      <th>2</th>\n",
       "      <td>PP-000000003</td>\n",
       "      <td>05/04/2023</td>\n",
       "      <td>NORTHON</td>\n",
       "      <td>809.XXX.XXX-04</td>\n",
       "      <td>Não Recreativo</td>\n",
       "      <td>DJI</td>\n",
       "      <td>Phantom 3</td>\n",
       "      <td>P78DCJ120605</td>\n",
       "      <td>1.31</td>\n",
       "      <td>Cuiabá-MT</td>\n",
       "      <td>Aerocinematografia</td>\n",
       "    </tr>\n",
       "    <tr>\n",
       "      <th>3</th>\n",
       "      <td>PP-000000005</td>\n",
       "      <td>04/11/2022</td>\n",
       "      <td>AGENCIA NACIONAL DE MINERACAO</td>\n",
       "      <td>29.406.625/0001-30</td>\n",
       "      <td>Não Recreativo</td>\n",
       "      <td>DJI</td>\n",
       "      <td>Phantom 4</td>\n",
       "      <td>07DDD7E0B10508</td>\n",
       "      <td>1.30</td>\n",
       "      <td>Brasília-DF</td>\n",
       "      <td>Órgãos de Fiscalização - Entidades Estatais</td>\n",
       "    </tr>\n",
       "    <tr>\n",
       "      <th>4</th>\n",
       "      <td>PP-000000006</td>\n",
       "      <td>24/11/2021</td>\n",
       "      <td>EDER AUGUSTO CAMPOS</td>\n",
       "      <td>007.XXX.XXX-74</td>\n",
       "      <td>Não Recreativo</td>\n",
       "      <td>DJI</td>\n",
       "      <td>Mavic</td>\n",
       "      <td>163DFBG001YT23</td>\n",
       "      <td>0.90</td>\n",
       "      <td>Matozinhos-MG</td>\n",
       "      <td>Aerolevantamento - Aerofotogrametria</td>\n",
       "    </tr>\n",
       "    <tr>\n",
       "      <th>5</th>\n",
       "      <td>PP-000000007</td>\n",
       "      <td>29/01/2022</td>\n",
       "      <td>KANA FILMES E PRODUCOES LTDA.</td>\n",
       "      <td>09.491.939/0001-70</td>\n",
       "      <td>Não Recreativo</td>\n",
       "      <td>DJI</td>\n",
       "      <td>Mavic</td>\n",
       "      <td>08QUE5H0010FRJ</td>\n",
       "      <td>1.00</td>\n",
       "      <td>São Paulo-SP</td>\n",
       "      <td>Aerocinematografia</td>\n",
       "    </tr>\n",
       "    <tr>\n",
       "      <th>6</th>\n",
       "      <td>PP-000000008</td>\n",
       "      <td>05/02/2022</td>\n",
       "      <td>EDUARD SOMMERFELD</td>\n",
       "      <td>027.XXX.XXX-16</td>\n",
       "      <td>Não Recreativo</td>\n",
       "      <td>DJI</td>\n",
       "      <td>Mavic</td>\n",
       "      <td>1SZDGCE1127EOT</td>\n",
       "      <td>0.24</td>\n",
       "      <td>Balneário Piçarras-SC</td>\n",
       "      <td>NaN</td>\n",
       "    </tr>\n",
       "    <tr>\n",
       "      <th>7</th>\n",
       "      <td>PP-000000010</td>\n",
       "      <td>29/05/2023</td>\n",
       "      <td>NOVARUM SKY TECNOLOGIA LTDA - ME</td>\n",
       "      <td>20.986.498/0001-10</td>\n",
       "      <td>Não Recreativo</td>\n",
       "      <td>MIKROKOPTER</td>\n",
       "      <td>MK Okto XL 6S12</td>\n",
       "      <td>5917</td>\n",
       "      <td>7.35</td>\n",
       "      <td>Florianópolis-SC</td>\n",
       "      <td>Aeroinspeção</td>\n",
       "    </tr>\n",
       "    <tr>\n",
       "      <th>8</th>\n",
       "      <td>PP-000000014</td>\n",
       "      <td>04/04/2023</td>\n",
       "      <td>Ailton jesus de oliveira</td>\n",
       "      <td>994.XXX.XXX-04</td>\n",
       "      <td>Não Recreativo</td>\n",
       "      <td>DJI</td>\n",
       "      <td>Phantom 3</td>\n",
       "      <td>P5AUDI060100</td>\n",
       "      <td>2.00</td>\n",
       "      <td>Ibiporã-PR</td>\n",
       "      <td>Aerocinematografia</td>\n",
       "    </tr>\n",
       "    <tr>\n",
       "      <th>9</th>\n",
       "      <td>PP-000000019</td>\n",
       "      <td>24/11/2021</td>\n",
       "      <td>VANIA PATRICIA BARBOSA</td>\n",
       "      <td>356.XXX.XXX-31</td>\n",
       "      <td>Não Recreativo</td>\n",
       "      <td>DJI</td>\n",
       "      <td>DJI Mavic 2 Pro</td>\n",
       "      <td>163CG7LR0A0A4Z</td>\n",
       "      <td>2.00</td>\n",
       "      <td>Araraquara-SP</td>\n",
       "      <td>NaN</td>\n",
       "    </tr>\n",
       "  </tbody>\n",
       "</table>\n",
       "</div>"
      ],
      "text/plain": [
       "  CodigoAeronave DataValidade  \\\n",
       "0   PP- 40211550   05/05/2023   \n",
       "1   PP-000000001   26/03/2023   \n",
       "2   PP-000000003   05/04/2023   \n",
       "3   PP-000000005   04/11/2022   \n",
       "4   PP-000000006   24/11/2021   \n",
       "5   PP-000000007   29/01/2022   \n",
       "6   PP-000000008   05/02/2022   \n",
       "7   PP-000000010   29/05/2023   \n",
       "8   PP-000000014   04/04/2023   \n",
       "9   PP-000000019   24/11/2021   \n",
       "\n",
       "                                          Operador            CPF/CNPJ  \\\n",
       "0  Companhia de inteligência urbana e servicos S/A  40.211.550/0001-74   \n",
       "1                             JUORDAN GUSS PEDRONI      080.XXX.XXX-60   \n",
       "2                                          NORTHON      809.XXX.XXX-04   \n",
       "3                    AGENCIA NACIONAL DE MINERACAO  29.406.625/0001-30   \n",
       "4                              EDER AUGUSTO CAMPOS      007.XXX.XXX-74   \n",
       "5                    KANA FILMES E PRODUCOES LTDA.  09.491.939/0001-70   \n",
       "6                                EDUARD SOMMERFELD      027.XXX.XXX-16   \n",
       "7                 NOVARUM SKY TECNOLOGIA LTDA - ME  20.986.498/0001-10   \n",
       "8                         Ailton jesus de oliveira      994.XXX.XXX-04   \n",
       "9                           VANIA PATRICIA BARBOSA      356.XXX.XXX-31   \n",
       "\n",
       "          TipoUso   Fabricante           Modelo     NumeroSerie  \\\n",
       "0  Não Recreativo          DJI    Phantom 4 Pro  11UDH38R710533   \n",
       "1  Não Recreativo          DJI            Mavic  08qde2r01204xu   \n",
       "2  Não Recreativo          DJI        Phantom 3    P78DCJ120605   \n",
       "3  Não Recreativo          DJI        Phantom 4  07DDD7E0B10508   \n",
       "4  Não Recreativo          DJI            Mavic  163DFBG001YT23   \n",
       "5  Não Recreativo          DJI            Mavic  08QUE5H0010FRJ   \n",
       "6  Não Recreativo          DJI            Mavic  1SZDGCE1127EOT   \n",
       "7  Não Recreativo  MIKROKOPTER  MK Okto XL 6S12            5917   \n",
       "8  Não Recreativo          DJI        Phantom 3    P5AUDI060100   \n",
       "9  Não Recreativo          DJI  DJI Mavic 2 Pro  163CG7LR0A0A4Z   \n",
       "\n",
       "   PesoMaximoDecolagem           CidadeEstado  \\\n",
       "0                 1.38           Fortaleza-CE   \n",
       "1                 1.00            Colatina-ES   \n",
       "2                 1.31              Cuiabá-MT   \n",
       "3                 1.30            Brasília-DF   \n",
       "4                 0.90          Matozinhos-MG   \n",
       "5                 1.00           São Paulo-SP   \n",
       "6                 0.24  Balneário Piçarras-SC   \n",
       "7                 7.35       Florianópolis-SC   \n",
       "8                 2.00             Ibiporã-PR   \n",
       "9                 2.00          Araraquara-SP   \n",
       "\n",
       "                                 RamoAtividade  \n",
       "0         Aerolevantamento - Aerofotogrametria  \n",
       "1                           Aerocinematografia  \n",
       "2                           Aerocinematografia  \n",
       "3  Órgãos de Fiscalização - Entidades Estatais  \n",
       "4         Aerolevantamento - Aerofotogrametria  \n",
       "5                           Aerocinematografia  \n",
       "6                                          NaN  \n",
       "7                                 Aeroinspeção  \n",
       "8                           Aerocinematografia  \n",
       "9                                          NaN  "
      ]
     },
     "execution_count": 3,
     "metadata": {},
     "output_type": "execute_result"
    }
   ],
   "source": [
    "# Prmeira visualização dos dados \n",
    "dataset.head(10) "
   ]
  },
  {
   "cell_type": "code",
   "execution_count": 4,
   "id": "0e20e665",
   "metadata": {},
   "outputs": [
    {
     "data": {
      "text/plain": [
       "(88130, 11)"
      ]
     },
     "execution_count": 4,
     "metadata": {},
     "output_type": "execute_result"
    }
   ],
   "source": [
    "# Analisando a quantidade de registros presentes na tabela\n",
    "dataset.shape"
   ]
  },
  {
   "cell_type": "code",
   "execution_count": 5,
   "id": "da038dd2",
   "metadata": {},
   "outputs": [
    {
     "name": "stdout",
     "output_type": "stream",
     "text": [
      "<class 'pandas.core.frame.DataFrame'>\n",
      "RangeIndex: 88130 entries, 0 to 88129\n",
      "Data columns (total 11 columns):\n",
      " #   Column               Non-Null Count  Dtype  \n",
      "---  ------               --------------  -----  \n",
      " 0   CodigoAeronave       88130 non-null  object \n",
      " 1   DataValidade         88130 non-null  object \n",
      " 2   Operador             88130 non-null  object \n",
      " 3   CPF/CNPJ             88130 non-null  object \n",
      " 4   TipoUso              88130 non-null  object \n",
      " 5   Fabricante           88127 non-null  object \n",
      " 6   Modelo               88127 non-null  object \n",
      " 7   NumeroSerie          88003 non-null  object \n",
      " 8   PesoMaximoDecolagem  88130 non-null  float64\n",
      " 9   CidadeEstado         88130 non-null  object \n",
      " 10  RamoAtividade        31220 non-null  object \n",
      "dtypes: float64(1), object(10)\n",
      "memory usage: 7.4+ MB\n"
     ]
    }
   ],
   "source": [
    "# Analisando mais a fundo os tipos de dados presentes na tabela\n",
    "dataset.info()"
   ]
  },
  {
   "cell_type": "markdown",
   "id": "7600762f",
   "metadata": {},
   "source": [
    "## Limpeza e Tratamento dos dados"
   ]
  },
  {
   "cell_type": "code",
   "execution_count": 6,
   "id": "a403a759",
   "metadata": {},
   "outputs": [],
   "source": [
    "# Como algumas colunas do dataset não vão ser \"uteis\" nessa análise eu optei por retirá-las.\n",
    "# Para não perder as informações originais do conjunto de dados, vou utilizar uma \"copia\" dos dados\n",
    "\n",
    "new_dataset = dataset\n",
    "\n",
    "new_dataset.drop(columns=['CodigoAeronave', 'DataValidade', 'CPF/CNPJ', 'NumeroSerie', 'PesoMaximoDecolagem'], inplace=True)"
   ]
  },
  {
   "cell_type": "code",
   "execution_count": 7,
   "id": "941b35da",
   "metadata": {},
   "outputs": [
    {
     "data": {
      "text/plain": [
       "Operador             0\n",
       "TipoUso              0\n",
       "Fabricante           3\n",
       "Modelo               3\n",
       "CidadeEstado         0\n",
       "RamoAtividade    56910\n",
       "dtype: int64"
      ]
     },
     "execution_count": 7,
     "metadata": {},
     "output_type": "execute_result"
    }
   ],
   "source": [
    "# Verificando se existe algum dado nulo\n",
    "new_dataset.isnull().sum()"
   ]
  },
  {
   "cell_type": "code",
   "execution_count": 8,
   "id": "3eec8dec",
   "metadata": {},
   "outputs": [],
   "source": [
    "# Como a coluna RamoAtividade tem a maioria dos dados faltantes eu preferi nomea-los como \"não declarados\".\n",
    "new_dataset['RamoAtividade'].fillna('Não Declarado', inplace = True)"
   ]
  },
  {
   "cell_type": "code",
   "execution_count": 9,
   "id": "692e1263",
   "metadata": {},
   "outputs": [],
   "source": [
    "# Removendo agora apenas os registros nulos\n",
    "# A diferença aqui é que como são pouquissimos registros nulos eu preferi manter a coluna e remover apenas os registros\n",
    "\n",
    "new_dataset.dropna(subset=['Fabricante', 'Modelo'], inplace = True) "
   ]
  },
  {
   "cell_type": "code",
   "execution_count": 10,
   "id": "ef326b67",
   "metadata": {},
   "outputs": [
    {
     "data": {
      "text/plain": [
       "Operador         0\n",
       "TipoUso          0\n",
       "Fabricante       0\n",
       "Modelo           0\n",
       "CidadeEstado     0\n",
       "RamoAtividade    0\n",
       "dtype: int64"
      ]
     },
     "execution_count": 10,
     "metadata": {},
     "output_type": "execute_result"
    }
   ],
   "source": [
    "# Confirmação que todos os registros são não-nulos\n",
    "new_dataset.isnull().sum()"
   ]
  },
  {
   "cell_type": "code",
   "execution_count": 11,
   "id": "a7065f41",
   "metadata": {},
   "outputs": [
    {
     "name": "stdout",
     "output_type": "stream",
     "text": [
      "<class 'pandas.core.frame.DataFrame'>\n",
      "Int64Index: 88127 entries, 0 to 88129\n",
      "Data columns (total 6 columns):\n",
      " #   Column         Non-Null Count  Dtype \n",
      "---  ------         --------------  ----- \n",
      " 0   Operador       88127 non-null  object\n",
      " 1   TipoUso        88127 non-null  object\n",
      " 2   Fabricante     88127 non-null  object\n",
      " 3   Modelo         88127 non-null  object\n",
      " 4   CidadeEstado   88127 non-null  object\n",
      " 5   RamoAtividade  88127 non-null  object\n",
      "dtypes: object(6)\n",
      "memory usage: 4.7+ MB\n"
     ]
    }
   ],
   "source": [
    "# Esses é o resultado da limpeza dos dados e são eles que vou usar para a análise\n",
    "dataset.info()"
   ]
  },
  {
   "cell_type": "markdown",
   "id": "051c780b",
   "metadata": {},
   "source": [
    "## Análise Exploratória"
   ]
  },
  {
   "cell_type": "markdown",
   "id": "603ece3c",
   "metadata": {},
   "source": [
    "### Tipo de uso"
   ]
  },
  {
   "cell_type": "code",
   "execution_count": 12,
   "id": "cc805af3",
   "metadata": {},
   "outputs": [
    {
     "data": {
      "text/plain": [
       "Recreativo        50940\n",
       "Não Recreativo    37187\n",
       "Name: TipoUso, dtype: int64"
      ]
     },
     "execution_count": 12,
     "metadata": {},
     "output_type": "execute_result"
    }
   ],
   "source": [
    "# Quantidade de cada um dos atributos da variavel TipoUso\n",
    "new_dataset.TipoUso.value_counts()"
   ]
  },
  {
   "cell_type": "code",
   "execution_count": 13,
   "id": "b86db510",
   "metadata": {},
   "outputs": [
    {
     "data": {
      "text/plain": [
       "Recreativo        57.802943\n",
       "Não Recreativo    42.197057\n",
       "Name: TipoUso, dtype: float64"
      ]
     },
     "execution_count": 13,
     "metadata": {},
     "output_type": "execute_result"
    }
   ],
   "source": [
    "# Porcentagem de cada um dos atributos da variavel TipoUso\n",
    "\n",
    "(new_dataset.TipoUso.value_counts() / new_dataset.TipoUso.value_counts().sum()) * 100"
   ]
  },
  {
   "cell_type": "markdown",
   "id": "c4d92bb6",
   "metadata": {},
   "source": [
    "### Operador"
   ]
  },
  {
   "cell_type": "code",
   "execution_count": 14,
   "id": "bdf4c4a9",
   "metadata": {},
   "outputs": [
    {
     "data": {
      "text/plain": [
       "CONFEDERACAO BRASILEIRA DE AEROMODELISMO       661\n",
       "DOUGLASS RIBEIRO CABRAL FAGUNDES               483\n",
       "VALE S.A.                                      205\n",
       "POLICIA MILITAR DO ESTADO DE SAO PAULO         160\n",
       "MINISTERIO DA JUSTICA E SEGURANCA PUBLICA      150\n",
       "Copel Distribuição                             119\n",
       "POLICIA MILITAR DO ESTADO DE SANTA CATARINA    113\n",
       "POLICIA MILITAR DO ESTADO DE MINAS GERAIS      107\n",
       "MAGIC DRONE SHOW DE LUZES                      101\n",
       "VISUALFARM PRODUCOES LTDA                      100\n",
       "Name: Operador, dtype: int64"
      ]
     },
     "execution_count": 14,
     "metadata": {},
     "output_type": "execute_result"
    }
   ],
   "source": [
    "# Informação de cada operador e quantidade de drones de cada um\n",
    "new_dataset.Operador.value_counts().head(10)"
   ]
  },
  {
   "cell_type": "markdown",
   "id": "82db6486",
   "metadata": {},
   "source": [
    "### Fabricante"
   ]
  },
  {
   "cell_type": "code",
   "execution_count": 15,
   "id": "6a27d6a4",
   "metadata": {},
   "outputs": [
    {
     "data": {
      "text/plain": [
       "DJI                                74258\n",
       "FIMI                                1260\n",
       "Hubsan                               955\n",
       "PARROT                               948\n",
       "Xiaomi                               720\n",
       "BEIJING FIMI TECHNOLOGY CO. LTD      440\n",
       "Fabricação própria                   367\n",
       "Eachine                              249\n",
       "Xiaomi Fími x8 se                    244\n",
       "XMOBOTS                              216\n",
       "Name: Fabricante, dtype: int64"
      ]
     },
     "execution_count": 15,
     "metadata": {},
     "output_type": "execute_result"
    }
   ],
   "source": [
    "# Os 10 fabricantes com mais drones registrados pelos operadores e a quantidade de cada um deles \n",
    "new_dataset.Fabricante.value_counts().head(10)"
   ]
  },
  {
   "cell_type": "code",
   "execution_count": 16,
   "id": "b4993cc2",
   "metadata": {},
   "outputs": [
    {
     "data": {
      "text/plain": [
       "DJI                                84.262485\n",
       "FIMI                                1.429755\n",
       "Hubsan                              1.083663\n",
       "PARROT                              1.075720\n",
       "Xiaomi                              0.817003\n",
       "BEIJING FIMI TECHNOLOGY CO. LTD     0.499279\n",
       "Fabricação própria                  0.416444\n",
       "Eachine                             0.282547\n",
       "Xiaomi Fími x8 se                   0.276873\n",
       "XMOBOTS                             0.245101\n",
       "Name: Fabricante, dtype: float64"
      ]
     },
     "execution_count": 16,
     "metadata": {},
     "output_type": "execute_result"
    }
   ],
   "source": [
    "# Porcentagem 10 fabricantes com mais drones registrado pelos operadores\n",
    "((new_dataset.Fabricante.value_counts()/new_dataset.Fabricante.value_counts().sum())*100).head(10)"
   ]
  },
  {
   "cell_type": "markdown",
   "id": "e252cdee",
   "metadata": {},
   "source": [
    "### Modelo"
   ]
  },
  {
   "cell_type": "code",
   "execution_count": 17,
   "id": "1ddc57b3",
   "metadata": {},
   "outputs": [
    {
     "data": {
      "text/plain": [
       "Mavic            27829\n",
       "Phantom 3         7071\n",
       "Spark             6171\n",
       "Phantom 4 Pro     5929\n",
       "Phantom 4         5162\n",
       "MINI 2            2899\n",
       "Mavic Mini        1969\n",
       "DJI Mini 2        1623\n",
       "Mavic 2 Pro       1517\n",
       "Mavic Air 2       1438\n",
       "Name: Modelo, dtype: int64"
      ]
     },
     "execution_count": 17,
     "metadata": {},
     "output_type": "execute_result"
    }
   ],
   "source": [
    "# Os 10 modelos com mais drones registrados pelos operadores e a quantidade de cada um deles \n",
    "new_dataset.Modelo.value_counts().head(10)"
   ]
  },
  {
   "cell_type": "code",
   "execution_count": 18,
   "id": "e79a9f55",
   "metadata": {},
   "outputs": [
    {
     "data": {
      "text/plain": [
       "Mavic            31.578290\n",
       "Phantom 3         8.023648\n",
       "Spark             7.002394\n",
       "Phantom 4 Pro     6.727791\n",
       "Phantom 4         5.857456\n",
       "MINI 2            3.289571\n",
       "Mavic Mini        2.234276\n",
       "DJI Mini 2        1.841660\n",
       "Mavic 2 Pro       1.721379\n",
       "Mavic Air 2       1.631736\n",
       "Name: Modelo, dtype: float64"
      ]
     },
     "execution_count": 18,
     "metadata": {},
     "output_type": "execute_result"
    }
   ],
   "source": [
    "# Porcentagem dos 10 modelos com mais drones registrado pelos operadores\n",
    "((new_dataset.Modelo.value_counts() / new_dataset.Modelo.value_counts().sum())*100).head(10)"
   ]
  },
  {
   "cell_type": "markdown",
   "id": "cb5951d9",
   "metadata": {},
   "source": [
    "### Local"
   ]
  },
  {
   "cell_type": "code",
   "execution_count": 19,
   "id": "139c9c46",
   "metadata": {},
   "outputs": [
    {
     "data": {
      "text/plain": [
       "São Paulo-SP         10197\n",
       "Rio de Janeiro-RJ     5245\n",
       "Brasília-DF           2923\n",
       "Belo Horizonte-MG     2703\n",
       "Curitiba-PR           2252\n",
       "Salvador-BA           1428\n",
       "Porto Alegre-RS       1214\n",
       "Fortaleza-CE          1110\n",
       "Goiânia-GO            1021\n",
       "Campinas-SP            997\n",
       "Name: CidadeEstado, dtype: int64"
      ]
     },
     "execution_count": 19,
     "metadata": {},
     "output_type": "execute_result"
    }
   ],
   "source": [
    "# Os 10 cidades com mais drones registrados pelos operadores e a quantidade de cada um deles\n",
    "new_dataset.CidadeEstado.value_counts().head(10)"
   ]
  },
  {
   "cell_type": "code",
   "execution_count": 20,
   "id": "6ee26426",
   "metadata": {},
   "outputs": [
    {
     "data": {
      "text/plain": [
       "São Paulo-SP         11.570801\n",
       "Rio de Janeiro-RJ     5.951638\n",
       "Brasília-DF           3.316804\n",
       "Belo Horizonte-MG     3.067164\n",
       "Curitiba-PR           2.555403\n",
       "Salvador-BA           1.620389\n",
       "Porto Alegre-RS       1.377557\n",
       "Fortaleza-CE          1.259546\n",
       "Goiânia-GO            1.158555\n",
       "Campinas-SP           1.131322\n",
       "Name: CidadeEstado, dtype: float64"
      ]
     },
     "execution_count": 20,
     "metadata": {},
     "output_type": "execute_result"
    }
   ],
   "source": [
    "# Porcentagem das 10 cidades com mais drones registrados pelos operadores\n",
    "(new_dataset.CidadeEstado.value_counts() / new_dataset.CidadeEstado.value_counts().sum()*100).head(10)"
   ]
  },
  {
   "cell_type": "markdown",
   "id": "d2b902ce",
   "metadata": {},
   "source": [
    "### Ramo de Atividade"
   ]
  },
  {
   "cell_type": "code",
   "execution_count": 21,
   "id": "73f82712",
   "metadata": {},
   "outputs": [
    {
     "data": {
      "text/plain": [
       "Não Declarado                                              56907\n",
       "Aerofotografia                                             10260\n",
       "Aerocinematografia                                          9117\n",
       "Aeroinspeção                                                3167\n",
       "Aerolevantamento - Aerofotogrametria                        2726\n",
       "Aeroagrícola                                                1934\n",
       "Segurança Pública e/ou Defesa Civil                         1889\n",
       "Aeropublicidade – Exposição de letreiros luminosos           609\n",
       "Órgãos de Fiscalização - Entidades Estatais                  558\n",
       "Aerorreportagem                                              551\n",
       "Aerolevantamento - Aeroprospecção                            130\n",
       "Combate a Incêndio                                           114\n",
       "Aerodemonstração                                              94\n",
       "Operação com carga externa                                    49\n",
       "Aeropublicidade – Reboque de faixa                            12\n",
       "Aeropublicidade – Inscrição com fumaça                         5\n",
       "Provocação artificial de chuvas ou modificação de clima        5\n",
       "Name: RamoAtividade, dtype: int64"
      ]
     },
     "execution_count": 21,
     "metadata": {},
     "output_type": "execute_result"
    }
   ],
   "source": [
    "# Ramo de atividade dos drones registrados\n",
    "new_dataset.RamoAtividade.value_counts()"
   ]
  },
  {
   "cell_type": "code",
   "execution_count": 22,
   "id": "39e37f3a",
   "metadata": {},
   "outputs": [
    {
     "data": {
      "text/plain": [
       "Não Declarado                                              64.573854\n",
       "Aerofotografia                                             11.642289\n",
       "Aerocinematografia                                         10.345297\n",
       "Aeroinspeção                                                3.593677\n",
       "Aerolevantamento - Aerofotogrametria                        3.093263\n",
       "Aeroagrícola                                                2.194560\n",
       "Segurança Pública e/ou Defesa Civil                         2.143497\n",
       "Aeropublicidade – Exposição de letreiros luminosos          0.691048\n",
       "Órgãos de Fiscalização - Entidades Estatais                 0.633177\n",
       "Aerorreportagem                                             0.625234\n",
       "Aerolevantamento - Aeroprospecção                           0.147514\n",
       "Combate a Incêndio                                          0.129359\n",
       "Aerodemonstração                                            0.106664\n",
       "Operação com carga externa                                  0.055602\n",
       "Aeropublicidade – Reboque de faixa                          0.013617\n",
       "Aeropublicidade – Inscrição com fumaça                      0.005674\n",
       "Provocação artificial de chuvas ou modificação de clima     0.005674\n",
       "Name: RamoAtividade, dtype: float64"
      ]
     },
     "execution_count": 22,
     "metadata": {},
     "output_type": "execute_result"
    }
   ],
   "source": [
    "# Porcentagem do Ramo de atividade dos drones registrados\n",
    "(new_dataset.RamoAtividade.value_counts() / new_dataset.RamoAtividade.value_counts().sum())*100"
   ]
  },
  {
   "cell_type": "markdown",
   "id": "a03c65e8",
   "metadata": {},
   "source": [
    "## Conclusão"
   ]
  },
  {
   "cell_type": "markdown",
   "id": "91a6d635",
   "metadata": {},
   "source": [
    "1. Analisando o papel dos órgãos fiscalizadores do governo, especificamente ANAC, eu vejo a forma de como os registros são realizados é tanto que falha e pode prejudicar a fiscalização. É notório que há uma falta de padronização no preenchimento dos dados, tanto que, em alguns casos não parece os dados são confusos. Um exemplo disso é que mais da metade dos registros não tem ramo de atividade e a variável peso máximo de decolagem não é confiável, já que, fazendo uma pesquisa rápida verifica-se algumas inconformidades com o que diz o fabricante.\n",
    "Outro ponto é que a última atualização do conjunto de dados é de 2019 e para uma tecnologia nova e que ganha cada vez mais adeptos, esses dados deveriam ser atualizados no mínimo anualmente.\n",
    "\n",
    "\n",
    "2. Falando agora sobre o uso dos drones, apesar de ser uma \"disputa\" equilibrada o uso recreativo deles é maioria (57,80%), o que prova que é uma tecnologia que caiu nas graças da população.\n",
    "\n",
    "\n",
    "3. Olhando para os operadores que registram esses drones, podemos tirar algumas informações interessantes:\n",
    "    - Um dos operadores que seria obvio ser um dos líderes em registros realmente confirmou essa tendência, que é a Confederação brasileira de Aeromodelismo.\n",
    "    - Como eu mencionei, os dados são um pouco confusos e uma amostra disso é que o segundo lugar da lista é uma pessoa fica com mais de 400 drones. Porém ao verificar a lista mais detalhadamente e pesquisando mais na internet eu fiquei com a impressão que pode haver algum erro no registro da pessoa que cadastrou o drone ou que no mínimo a informação presente no registro é pouco relevante, no sentido de que não passa a informação que deveria.\n",
    "    - Outro ponto interessante é notar quantos modelos as policias militares e civil detém, algo que não é tão surpreendente, mas que não paramos para pensar normalmente.\n",
    "\n",
    "\n",
    "4. Quando paramos para olhar os fabricantes dos drones registrados é interessante notar que a empresa DJI tem um domínio gigantesco do mercado de drones com 84,26% dos modelos e se analisarmos só os 10 fabricantes com mais drones a domínio cresce mais ainda e vai para 93,22%.\n",
    "\n",
    "\n",
    "5. De forma parecida em relação aos modelos, há uma predominância de três modelos e suas variantes: Mavic, Spark e Phantom.\n",
    "\n",
    "\n",
    "6. Outro fato relevante é em relação ao local onde os drones foram registrados, sendo que, como já era de se esperar a uma grande concentração deles registrados em capitais e em grandes cidades. Destaque também para a liderança tranquila dos estados da região sudeste, como São Paulo e Rio de Janeiro com o primeiro e segundos lugares e Belo Horizonte em quarto lugar.\n",
    "\n",
    "\n",
    "7. Em relação ao ramo de atividade um fato interessante, mas um tanto estranho é que 64,57% dos drones registrados não tem uma informação declarada. Isso é estranho porque pode deixar margens para má interpretação.\n",
    "\n",
    "\n",
    "Por fim, espera-se que na próxima atualização com os registros o governo e a ANAC tragam mais dados e que sejam mais organizados, mais padronizados e que levem a menos dubiedade. Obviamente por ser um mercado novo ainda se está construindo meios de fiscalização para esses drones, porém, é necessário haja uma evolução nesse sentido."
   ]
  }
 ],
 "metadata": {
  "kernelspec": {
   "display_name": "Python 3",
   "language": "python",
   "name": "python3"
  },
  "language_info": {
   "codemirror_mode": {
    "name": "ipython",
    "version": 3
   },
   "file_extension": ".py",
   "mimetype": "text/x-python",
   "name": "python",
   "nbconvert_exporter": "python",
   "pygments_lexer": "ipython3",
   "version": "3.8.8"
  }
 },
 "nbformat": 4,
 "nbformat_minor": 5
}
