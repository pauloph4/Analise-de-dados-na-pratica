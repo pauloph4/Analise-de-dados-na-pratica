{
 "cells": [
  {
   "cell_type": "markdown",
   "id": "4fae1316",
   "metadata": {},
   "source": [
    "# Contexto da Análise"
   ]
  },
  {
   "cell_type": "markdown",
   "id": "1011ca8b",
   "metadata": {},
   "source": [
    "Acredito que a prática faz a perfeição, então, desde que comecei a gostar e aprender sobre análise dados decide que colocaria em prática o que estou aprendendo. Então, essa analise assim como as outras do meu repositório são meramente para fins de aprendizado e de expor meu trabalho para quem se interessa em aprender comigo ou pelo meu trabalho.\n",
    "\n",
    "Para isso, a princípio sempre usarei dados abertos fornecidos por governos, universidades e sites especializados nesse quesito como Kaggle.\n",
    "\n",
    "Em relação ao conjunto de dados que escolhi para esta análise, eu optei por analisar os dados de recebimento de relatos de acidentes do Inmetro de 2006/2018 por pura curiosidade. Já que todo mundo já ouviu falar de alguém que se acidentou com algum produto, seria interessante entrar um pouco mais a fundo nessa questão. Consequentemente, a facilidade de encontrar dados abertos acerca desse histórico também facilita que existam diferentes análises dos acidentes.\n",
    "\n",
    "Eu como bom cidadão e leigo no assunto, me interessei em conhecer um pouco mais sobre e para isso resolvi fazer uma breve análise acerca dos dados disponíveis."
   ]
  },
  {
   "cell_type": "markdown",
   "id": "2e7f2a9e",
   "metadata": {},
   "source": [
    "### Fonte: https://dados.gov.br/dataset/sistema-inmetro-de-monitoramento-de-acidentes-de-consumo-sinmac\n",
    "\n",
    "### https://dados.gov.br/dataset/sistema-inmetro-de-monitoramento-de-acidentes-de-consumo-sinmac/resource/324736ac-64a8-453c-8339-3bdce0f697f6"
   ]
  },
  {
   "cell_type": "markdown",
   "id": "8e4ee987",
   "metadata": {},
   "source": [
    "## O que a análise revela?"
   ]
  },
  {
   "cell_type": "markdown",
   "id": "9da8b05e",
   "metadata": {},
   "source": [
    "Depois de todas essas análises de fato é possível tirar algumas conclusões interessantes a respeito dos relatos de reclamações recebidos pelo Inmetro. Algumas dessas conclusões são mais previsíveis e outras um tanto que surpreendentes apesar de que para pessoas mais atentas já pudessem ver alguns indícios delas.\n",
    "\n",
    "\n",
    "Então, Vamos lá.\n",
    "\n",
    "1. A primeira análise revelou que em relação ao gênero das pessoas que foram vitimas de acidentes os indivíduos que se declararam do sexo feminino tem um numero de ocorrências maior que os indivíduos do sexo masculino. O que também é interessante notar é que os dois gêneros geralmente se envolvem em acidentes com produtos das mesmas famílias: Produtos infantis, eletrodomésticos e utensílios domésticos apenas variando a lugar na lista de incidentes. Mas destacando as diferenças pessoas do sexo se pode notar a presença de incidentes envolvendo veículos entre os homens e cosméticos entre as mulheres. Quando se trata das partes do corpo que foram alvo de lesões no incidente, a maioria dos casos não resultou em nenhum ferimento. No entanto, podemos se pode ver que os incidentes que resultaram em lesão atingem principalmente as mãos, 25% a 50 do corpo ou são internas em ambos os gêneros.\n",
    "\n",
    "\n",
    "2. Quando olhamos para a faixa etária das pessoas que foram alvo desses incidentes os indivíduos com idade entre 20 a 39 anos são os que mais tem incidentes relatados, seguidos de perto pela faixa de 40 a 59 e 0 a 19 anos.\n",
    "\n",
    "\n",
    "3. Em relação a subfamília e os produtos que mais causaram incidentes, Fogão, Embalagem metálica, Brinquedo aparecem no topo da lista de maiores relatos. Isso não é nenhuma surpresa levando em conta que que fogão é um produto que lida com elementos de risco (fogo, gás e eletricidade), embalagens metálicas tendem a ser cortantes e crianças podem ser um problema para crianças muito pequenas.\n",
    "\n",
    "\n",
    "4. A data em que os relatos foram recebidos também trazem informações importantes: entre 2012 a 2014 o Inmetro teve um \"boom\" no recebimento de relatos de acidentes. Quando analisamos os meses do ano, é estranho notar que há uma variação muito grandes, com seguidas altas e seguidas baixas, sendo o inicio do ano o período com mais relatos. Em relação aos dias, a variação também é muito grande, mas a maior quantidade de relatos se dá no final dos meses.\n",
    "\n",
    "\n",
    "5. Por fim, temos a localidade onde os acidentes ocorreram: e sem nenhuma surpresa São Paulo é o estado com mais acidentes relatados seguido pelos outros dois grandes estados da região sudestes, Minas Gerais e São Paulo. Isso carece de investigação, mas obviamente também tem relação com o tamanho da população de cada um desses estados, que tem as três maiores populações do país."
   ]
  },
  {
   "cell_type": "markdown",
   "id": "3bf4f10c",
   "metadata": {},
   "source": [
    "# A análise"
   ]
  },
  {
   "cell_type": "markdown",
   "id": "f707b56b",
   "metadata": {},
   "source": [
    "## Carregando os pacotes"
   ]
  },
  {
   "cell_type": "code",
   "execution_count": 1,
   "id": "4aa4e903",
   "metadata": {},
   "outputs": [
    {
     "name": "stdout",
     "output_type": "stream",
     "text": [
      "Author: Paulo Henrique Pinto\n",
      "\n",
      "numpy     : 1.20.1\n",
      "pandas    : 1.2.4\n",
      "matplotlib: 3.2.1\n",
      "seaborn   : 0.11.1\n",
      "\n"
     ]
    }
   ],
   "source": [
    "import pandas as pd\n",
    "import numpy as np\n",
    "import matplotlib\n",
    "import matplotlib.pyplot as plt\n",
    "import seaborn as sns\n",
    "from matplotlib import cm\n",
    "import warnings\n",
    "\n",
    "warnings.filterwarnings(\"ignore\", category=FutureWarning)\n",
    "\n",
    "%reload_ext watermark\n",
    "%watermark -a \"Paulo Henrique Pinto\" --iversions"
   ]
  },
  {
   "cell_type": "markdown",
   "id": "fca748a5",
   "metadata": {},
   "source": [
    "## Importando o conjunto de dados"
   ]
  },
  {
   "cell_type": "code",
   "execution_count": 2,
   "id": "4410dbb1",
   "metadata": {},
   "outputs": [],
   "source": [
    "# Carregando o conjunto de dados\n",
    "dataset = pd.read_csv(\"Sinmac2006-2018.csv\",\n",
    "                      sep= ';',\n",
    "                      encoding = 'utf-8',\n",
    "                      engine = 'python',\n",
    "                      error_bad_lines=False)"
   ]
  },
  {
   "cell_type": "code",
   "execution_count": 3,
   "id": "68521792",
   "metadata": {},
   "outputs": [
    {
     "data": {
      "text/plain": [
       "(2948, 15)"
      ]
     },
     "execution_count": 3,
     "metadata": {},
     "output_type": "execute_result"
    }
   ],
   "source": [
    "dataset.shape"
   ]
  },
  {
   "cell_type": "code",
   "execution_count": 4,
   "id": "6f61ca2a",
   "metadata": {},
   "outputs": [
    {
     "data": {
      "text/html": [
       "<div>\n",
       "<style scoped>\n",
       "    .dataframe tbody tr th:only-of-type {\n",
       "        vertical-align: middle;\n",
       "    }\n",
       "\n",
       "    .dataframe tbody tr th {\n",
       "        vertical-align: top;\n",
       "    }\n",
       "\n",
       "    .dataframe thead th {\n",
       "        text-align: right;\n",
       "    }\n",
       "</style>\n",
       "<table border=\"1\" class=\"dataframe\">\n",
       "  <thead>\n",
       "    <tr style=\"text-align: right;\">\n",
       "      <th></th>\n",
       "      <th>DataRecebimentoRelato</th>\n",
       "      <th>Família</th>\n",
       "      <th>Subfamília</th>\n",
       "      <th>Produto</th>\n",
       "      <th>Modelo</th>\n",
       "      <th>Marca</th>\n",
       "      <th>Lesão</th>\n",
       "      <th>ParteDoCorpo</th>\n",
       "      <th>Idade</th>\n",
       "      <th>Sexo</th>\n",
       "      <th>Estado</th>\n",
       "      <th>NívelEscolaridade</th>\n",
       "      <th>AtendimentoMédico</th>\n",
       "      <th>AusênciaTrabalho</th>\n",
       "      <th>TipoDeEntrada</th>\n",
       "    </tr>\n",
       "  </thead>\n",
       "  <tbody>\n",
       "    <tr>\n",
       "      <th>0</th>\n",
       "      <td>01/01/2002</td>\n",
       "      <td>Produto químico</td>\n",
       "      <td>Saneante</td>\n",
       "      <td>Formol</td>\n",
       "      <td>NI</td>\n",
       "      <td>NI</td>\n",
       "      <td>Intoxicação</td>\n",
       "      <td>Boca</td>\n",
       "      <td>38</td>\n",
       "      <td>F</td>\n",
       "      <td>PB</td>\n",
       "      <td>NI</td>\n",
       "      <td>Sim</td>\n",
       "      <td>Não</td>\n",
       "      <td>Link Acidentes de Consumo</td>\n",
       "    </tr>\n",
       "    <tr>\n",
       "      <th>1</th>\n",
       "      <td>18/03/2005</td>\n",
       "      <td>Produto infantil</td>\n",
       "      <td>Brinquedo</td>\n",
       "      <td>Jogo</td>\n",
       "      <td>Pula Macaco</td>\n",
       "      <td>Estrela</td>\n",
       "      <td>Perfuração</td>\n",
       "      <td>Globo ocular</td>\n",
       "      <td>8</td>\n",
       "      <td>M</td>\n",
       "      <td>SP</td>\n",
       "      <td>NI</td>\n",
       "      <td>Sim</td>\n",
       "      <td>Não</td>\n",
       "      <td>Link Acidentes de Consumo</td>\n",
       "    </tr>\n",
       "    <tr>\n",
       "      <th>2</th>\n",
       "      <td>30/01/2006</td>\n",
       "      <td>Artigo escolar</td>\n",
       "      <td>Artigo para escrever</td>\n",
       "      <td>Grafite</td>\n",
       "      <td>NI</td>\n",
       "      <td>Pentel</td>\n",
       "      <td>Contusão</td>\n",
       "      <td>Globo ocular</td>\n",
       "      <td>9</td>\n",
       "      <td>M</td>\n",
       "      <td>DF</td>\n",
       "      <td>Fundamental completo</td>\n",
       "      <td>Sim</td>\n",
       "      <td>Sim</td>\n",
       "      <td>Link Acidentes de Consumo</td>\n",
       "    </tr>\n",
       "    <tr>\n",
       "      <th>3</th>\n",
       "      <td>17/10/2006</td>\n",
       "      <td>Vestuário</td>\n",
       "      <td>Calçado</td>\n",
       "      <td>Sapato</td>\n",
       "      <td>NI</td>\n",
       "      <td>West Coast</td>\n",
       "      <td>Contusão</td>\n",
       "      <td>Braço (Parte superior)</td>\n",
       "      <td>38</td>\n",
       "      <td>M</td>\n",
       "      <td>RS</td>\n",
       "      <td>Médio completo</td>\n",
       "      <td>Sim</td>\n",
       "      <td>Sim</td>\n",
       "      <td>Link Acidentes de Consumo</td>\n",
       "    </tr>\n",
       "    <tr>\n",
       "      <th>4</th>\n",
       "      <td>20/10/2006</td>\n",
       "      <td>Alimento</td>\n",
       "      <td>Panificação e biscoitos</td>\n",
       "      <td>Biscoito</td>\n",
       "      <td>NI</td>\n",
       "      <td>Parmalat</td>\n",
       "      <td>Sufocamento</td>\n",
       "      <td>Interna</td>\n",
       "      <td>19</td>\n",
       "      <td>M</td>\n",
       "      <td>SP</td>\n",
       "      <td>Superior completo</td>\n",
       "      <td>Não</td>\n",
       "      <td>Não</td>\n",
       "      <td>Link Acidentes de Consumo</td>\n",
       "    </tr>\n",
       "    <tr>\n",
       "      <th>5</th>\n",
       "      <td>23/10/2006</td>\n",
       "      <td>Eletrodoméstico</td>\n",
       "      <td>Aparelho para cuidados da pele e cabelo</td>\n",
       "      <td>Aparelho de barbear elétrico</td>\n",
       "      <td>NI</td>\n",
       "      <td>Philips</td>\n",
       "      <td>Choque elétrico</td>\n",
       "      <td>Mão</td>\n",
       "      <td>28</td>\n",
       "      <td>M</td>\n",
       "      <td>RN</td>\n",
       "      <td>Médio completo</td>\n",
       "      <td>Não</td>\n",
       "      <td>Não</td>\n",
       "      <td>Link Acidentes de Consumo</td>\n",
       "    </tr>\n",
       "    <tr>\n",
       "      <th>6</th>\n",
       "      <td>24/10/2006</td>\n",
       "      <td>Construção civil</td>\n",
       "      <td>Material isolante, de acabamento e de vedação</td>\n",
       "      <td>Espuma isolante</td>\n",
       "      <td>Espuma de poliuretano PEGAMIL - PU X30</td>\n",
       "      <td>Anaerobicos Brasil</td>\n",
       "      <td>Outro</td>\n",
       "      <td>Mão</td>\n",
       "      <td>28</td>\n",
       "      <td>M</td>\n",
       "      <td>DF</td>\n",
       "      <td>Pós-graduação</td>\n",
       "      <td>Não</td>\n",
       "      <td>Não</td>\n",
       "      <td>Link Acidentes de Consumo</td>\n",
       "    </tr>\n",
       "    <tr>\n",
       "      <th>7</th>\n",
       "      <td>01/11/2006</td>\n",
       "      <td>Cosmético</td>\n",
       "      <td>Alisador de cabelo</td>\n",
       "      <td>Alisador de cabelo</td>\n",
       "      <td>Alisador japonês</td>\n",
       "      <td>Walter Coiffeur</td>\n",
       "      <td>Queimadura</td>\n",
       "      <td>Cabeça</td>\n",
       "      <td>16</td>\n",
       "      <td>F</td>\n",
       "      <td>RJ</td>\n",
       "      <td>Médio completo</td>\n",
       "      <td>Não</td>\n",
       "      <td>Não</td>\n",
       "      <td>Link Acidentes de Consumo</td>\n",
       "    </tr>\n",
       "    <tr>\n",
       "      <th>8</th>\n",
       "      <td>02/11/2006</td>\n",
       "      <td>Aparelho elétrico</td>\n",
       "      <td>Instrumento de medição</td>\n",
       "      <td>Multímetro</td>\n",
       "      <td>M5302</td>\n",
       "      <td>NI</td>\n",
       "      <td>Queimadura</td>\n",
       "      <td>Mão</td>\n",
       "      <td>16</td>\n",
       "      <td>M</td>\n",
       "      <td>SP</td>\n",
       "      <td>Médio completo</td>\n",
       "      <td>Não</td>\n",
       "      <td>Não</td>\n",
       "      <td>Link Acidentes de Consumo</td>\n",
       "    </tr>\n",
       "    <tr>\n",
       "      <th>9</th>\n",
       "      <td>08/11/2006</td>\n",
       "      <td>Mobiliário</td>\n",
       "      <td>Colchão</td>\n",
       "      <td>Colchão</td>\n",
       "      <td>NI</td>\n",
       "      <td>Ortobom</td>\n",
       "      <td>Luxação/Contusão</td>\n",
       "      <td>Tronco (Parte superior)</td>\n",
       "      <td>43</td>\n",
       "      <td>F</td>\n",
       "      <td>DF</td>\n",
       "      <td>Superior completo</td>\n",
       "      <td>Sim</td>\n",
       "      <td>Sim</td>\n",
       "      <td>Link Acidentes de Consumo</td>\n",
       "    </tr>\n",
       "  </tbody>\n",
       "</table>\n",
       "</div>"
      ],
      "text/plain": [
       "  DataRecebimentoRelato            Família  \\\n",
       "0            01/01/2002    Produto químico   \n",
       "1            18/03/2005   Produto infantil   \n",
       "2            30/01/2006     Artigo escolar   \n",
       "3            17/10/2006          Vestuário   \n",
       "4            20/10/2006           Alimento   \n",
       "5            23/10/2006    Eletrodoméstico   \n",
       "6            24/10/2006   Construção civil   \n",
       "7            01/11/2006          Cosmético   \n",
       "8            02/11/2006  Aparelho elétrico   \n",
       "9            08/11/2006         Mobiliário   \n",
       "\n",
       "                                      Subfamília  \\\n",
       "0                                       Saneante   \n",
       "1                                      Brinquedo   \n",
       "2                          Artigo para escrever    \n",
       "3                                        Calçado   \n",
       "4                        Panificação e biscoitos   \n",
       "5        Aparelho para cuidados da pele e cabelo   \n",
       "6  Material isolante, de acabamento e de vedação   \n",
       "7                             Alisador de cabelo   \n",
       "8                         Instrumento de medição   \n",
       "9                                       Colchão    \n",
       "\n",
       "                        Produto                                  Modelo  \\\n",
       "0                        Formol                                      NI   \n",
       "1                          Jogo                             Pula Macaco   \n",
       "2                       Grafite                                      NI   \n",
       "3                       Sapato                                       NI   \n",
       "4                     Biscoito                                       NI   \n",
       "5  Aparelho de barbear elétrico                                      NI   \n",
       "6               Espuma isolante  Espuma de poliuretano PEGAMIL - PU X30   \n",
       "7            Alisador de cabelo                        Alisador japonês   \n",
       "8                    Multímetro                                   M5302   \n",
       "9                       Colchão                                      NI   \n",
       "\n",
       "                Marca             Lesão             ParteDoCorpo Idade Sexo  \\\n",
       "0                  NI       Intoxicação                     Boca    38    F   \n",
       "1             Estrela        Perfuração             Globo ocular     8    M   \n",
       "2              Pentel          Contusão             Globo ocular     9    M   \n",
       "3          West Coast          Contusão   Braço (Parte superior)    38    M   \n",
       "4            Parmalat       Sufocamento                  Interna    19    M   \n",
       "5             Philips   Choque elétrico                      Mão    28    M   \n",
       "6  Anaerobicos Brasil             Outro                      Mão    28    M   \n",
       "7     Walter Coiffeur        Queimadura                   Cabeça    16    F   \n",
       "8                  NI        Queimadura                      Mão    16    M   \n",
       "9             Ortobom  Luxação/Contusão  Tronco (Parte superior)    43    F   \n",
       "\n",
       "  Estado     NívelEscolaridade AtendimentoMédico AusênciaTrabalho  \\\n",
       "0     PB                    NI               Sim              Não   \n",
       "1     SP                    NI               Sim              Não   \n",
       "2     DF  Fundamental completo               Sim              Sim   \n",
       "3     RS        Médio completo               Sim              Sim   \n",
       "4     SP     Superior completo               Não              Não   \n",
       "5     RN        Médio completo               Não              Não   \n",
       "6     DF         Pós-graduação               Não              Não   \n",
       "7     RJ        Médio completo               Não              Não   \n",
       "8     SP        Médio completo               Não              Não   \n",
       "9     DF     Superior completo               Sim              Sim   \n",
       "\n",
       "               TipoDeEntrada  \n",
       "0  Link Acidentes de Consumo  \n",
       "1  Link Acidentes de Consumo  \n",
       "2  Link Acidentes de Consumo  \n",
       "3  Link Acidentes de Consumo  \n",
       "4  Link Acidentes de Consumo  \n",
       "5  Link Acidentes de Consumo  \n",
       "6  Link Acidentes de Consumo  \n",
       "7  Link Acidentes de Consumo  \n",
       "8  Link Acidentes de Consumo  \n",
       "9  Link Acidentes de Consumo  "
      ]
     },
     "execution_count": 4,
     "metadata": {},
     "output_type": "execute_result"
    }
   ],
   "source": [
    "# Primeira visualização do conjunto de dados\n",
    "dataset.head(10)"
   ]
  },
  {
   "cell_type": "code",
   "execution_count": 5,
   "id": "ac178835",
   "metadata": {},
   "outputs": [
    {
     "name": "stdout",
     "output_type": "stream",
     "text": [
      "<class 'pandas.core.frame.DataFrame'>\n",
      "RangeIndex: 2948 entries, 0 to 2947\n",
      "Data columns (total 15 columns):\n",
      " #   Column                 Non-Null Count  Dtype \n",
      "---  ------                 --------------  ----- \n",
      " 0   DataRecebimentoRelato  2946 non-null   object\n",
      " 1   Família                2947 non-null   object\n",
      " 2   Subfamília             2947 non-null   object\n",
      " 3   Produto                2945 non-null   object\n",
      " 4   Modelo                 2892 non-null   object\n",
      " 5   Marca                  2934 non-null   object\n",
      " 6   Lesão                  2944 non-null   object\n",
      " 7   ParteDoCorpo           2066 non-null   object\n",
      " 8   Idade                  2947 non-null   object\n",
      " 9   Sexo                   2938 non-null   object\n",
      " 10  Estado                 2947 non-null   object\n",
      " 11  NívelEscolaridade      2946 non-null   object\n",
      " 12  AtendimentoMédico      2942 non-null   object\n",
      " 13  AusênciaTrabalho       2942 non-null   object\n",
      " 14  TipoDeEntrada          2947 non-null   object\n",
      "dtypes: object(15)\n",
      "memory usage: 345.6+ KB\n"
     ]
    }
   ],
   "source": [
    "# Visualização o conjunto de dados um pouco mais detalhadamente analisando suas variaveis.\n",
    "dataset.info()"
   ]
  },
  {
   "cell_type": "code",
   "execution_count": 6,
   "id": "ba288515",
   "metadata": {},
   "outputs": [
    {
     "data": {
      "text/plain": [
       "DataRecebimentoRelato      2\n",
       "Família                    1\n",
       "Subfamília                 1\n",
       "Produto                    3\n",
       "Modelo                    56\n",
       "Marca                     14\n",
       "Lesão                      4\n",
       "ParteDoCorpo             882\n",
       "Idade                      1\n",
       "Sexo                      10\n",
       "Estado                     1\n",
       "NívelEscolaridade          2\n",
       "AtendimentoMédico          6\n",
       "AusênciaTrabalho           6\n",
       "TipoDeEntrada              1\n",
       "dtype: int64"
      ]
     },
     "execution_count": 6,
     "metadata": {},
     "output_type": "execute_result"
    }
   ],
   "source": [
    "# Veficicando suas colunas\n",
    "dataset.isnull().sum()"
   ]
  },
  {
   "cell_type": "markdown",
   "id": "528860f3",
   "metadata": {},
   "source": [
    "## Limpeza e Tratamento dos dados"
   ]
  },
  {
   "cell_type": "code",
   "execution_count": 7,
   "id": "847c6e1a",
   "metadata": {},
   "outputs": [],
   "source": [
    "# Como algumas colunas do dataset não vão ser \"uteis\" nessa análise eu optei por retirá-las.\n",
    "\n",
    "new_dataset = dataset\n",
    "\n",
    "new_dataset.drop('AtendimentoMédico', axis=1, inplace=True)\n",
    "new_dataset.drop('TipoDeEntrada', axis=1, inplace=True)\n",
    "\n",
    "# Alguns registros no dataset possuem gênero NI (Não informado)\n",
    "# Eu não teria problema em usar essa informação, mas além de serem poucos registros ainda há algumas inconsistencias neles.\n",
    "\n",
    "new_dataset.drop(new_dataset[new_dataset.Sexo =='NI'].index, inplace=True)"
   ]
  },
  {
   "cell_type": "code",
   "execution_count": 8,
   "id": "5eb53403",
   "metadata": {},
   "outputs": [
    {
     "data": {
      "text/html": [
       "<div>\n",
       "<style scoped>\n",
       "    .dataframe tbody tr th:only-of-type {\n",
       "        vertical-align: middle;\n",
       "    }\n",
       "\n",
       "    .dataframe tbody tr th {\n",
       "        vertical-align: top;\n",
       "    }\n",
       "\n",
       "    .dataframe thead th {\n",
       "        text-align: right;\n",
       "    }\n",
       "</style>\n",
       "<table border=\"1\" class=\"dataframe\">\n",
       "  <thead>\n",
       "    <tr style=\"text-align: right;\">\n",
       "      <th></th>\n",
       "      <th>DataRecebimentoRelato</th>\n",
       "      <th>Família</th>\n",
       "      <th>Subfamília</th>\n",
       "      <th>Produto</th>\n",
       "      <th>Modelo</th>\n",
       "      <th>Marca</th>\n",
       "      <th>Lesão</th>\n",
       "      <th>ParteDoCorpo</th>\n",
       "      <th>Idade</th>\n",
       "      <th>Sexo</th>\n",
       "      <th>Estado</th>\n",
       "      <th>NívelEscolaridade</th>\n",
       "      <th>AusênciaTrabalho</th>\n",
       "      <th>Dia</th>\n",
       "      <th>Mes</th>\n",
       "      <th>Ano</th>\n",
       "    </tr>\n",
       "  </thead>\n",
       "  <tbody>\n",
       "    <tr>\n",
       "      <th>0</th>\n",
       "      <td>01/01/2002</td>\n",
       "      <td>Produto químico</td>\n",
       "      <td>Saneante</td>\n",
       "      <td>Formol</td>\n",
       "      <td>NI</td>\n",
       "      <td>NI</td>\n",
       "      <td>Intoxicação</td>\n",
       "      <td>Boca</td>\n",
       "      <td>38</td>\n",
       "      <td>F</td>\n",
       "      <td>PB</td>\n",
       "      <td>NI</td>\n",
       "      <td>Não</td>\n",
       "      <td>01</td>\n",
       "      <td>01</td>\n",
       "      <td>2002</td>\n",
       "    </tr>\n",
       "    <tr>\n",
       "      <th>1</th>\n",
       "      <td>18/03/2005</td>\n",
       "      <td>Produto infantil</td>\n",
       "      <td>Brinquedo</td>\n",
       "      <td>Jogo</td>\n",
       "      <td>Pula Macaco</td>\n",
       "      <td>Estrela</td>\n",
       "      <td>Perfuração</td>\n",
       "      <td>Globo ocular</td>\n",
       "      <td>8</td>\n",
       "      <td>M</td>\n",
       "      <td>SP</td>\n",
       "      <td>NI</td>\n",
       "      <td>Não</td>\n",
       "      <td>18</td>\n",
       "      <td>03</td>\n",
       "      <td>2005</td>\n",
       "    </tr>\n",
       "    <tr>\n",
       "      <th>2</th>\n",
       "      <td>30/01/2006</td>\n",
       "      <td>Artigo escolar</td>\n",
       "      <td>Artigo para escrever</td>\n",
       "      <td>Grafite</td>\n",
       "      <td>NI</td>\n",
       "      <td>Pentel</td>\n",
       "      <td>Contusão</td>\n",
       "      <td>Globo ocular</td>\n",
       "      <td>9</td>\n",
       "      <td>M</td>\n",
       "      <td>DF</td>\n",
       "      <td>Fundamental completo</td>\n",
       "      <td>Sim</td>\n",
       "      <td>30</td>\n",
       "      <td>01</td>\n",
       "      <td>2006</td>\n",
       "    </tr>\n",
       "    <tr>\n",
       "      <th>3</th>\n",
       "      <td>17/10/2006</td>\n",
       "      <td>Vestuário</td>\n",
       "      <td>Calçado</td>\n",
       "      <td>Sapato</td>\n",
       "      <td>NI</td>\n",
       "      <td>West Coast</td>\n",
       "      <td>Contusão</td>\n",
       "      <td>Braço (Parte superior)</td>\n",
       "      <td>38</td>\n",
       "      <td>M</td>\n",
       "      <td>RS</td>\n",
       "      <td>Médio completo</td>\n",
       "      <td>Sim</td>\n",
       "      <td>17</td>\n",
       "      <td>10</td>\n",
       "      <td>2006</td>\n",
       "    </tr>\n",
       "    <tr>\n",
       "      <th>4</th>\n",
       "      <td>20/10/2006</td>\n",
       "      <td>Alimento</td>\n",
       "      <td>Panificação e biscoitos</td>\n",
       "      <td>Biscoito</td>\n",
       "      <td>NI</td>\n",
       "      <td>Parmalat</td>\n",
       "      <td>Sufocamento</td>\n",
       "      <td>Interna</td>\n",
       "      <td>19</td>\n",
       "      <td>M</td>\n",
       "      <td>SP</td>\n",
       "      <td>Superior completo</td>\n",
       "      <td>Não</td>\n",
       "      <td>20</td>\n",
       "      <td>10</td>\n",
       "      <td>2006</td>\n",
       "    </tr>\n",
       "    <tr>\n",
       "      <th>...</th>\n",
       "      <td>...</td>\n",
       "      <td>...</td>\n",
       "      <td>...</td>\n",
       "      <td>...</td>\n",
       "      <td>...</td>\n",
       "      <td>...</td>\n",
       "      <td>...</td>\n",
       "      <td>...</td>\n",
       "      <td>...</td>\n",
       "      <td>...</td>\n",
       "      <td>...</td>\n",
       "      <td>...</td>\n",
       "      <td>...</td>\n",
       "      <td>...</td>\n",
       "      <td>...</td>\n",
       "      <td>...</td>\n",
       "    </tr>\n",
       "    <tr>\n",
       "      <th>2940</th>\n",
       "      <td>14/12/2018</td>\n",
       "      <td>Aparelho elétrico</td>\n",
       "      <td>Máquina industrial</td>\n",
       "      <td>Misturador de ração</td>\n",
       "      <td>Misturador de ração</td>\n",
       "      <td>Siltomac</td>\n",
       "      <td>Corte</td>\n",
       "      <td>Dedo da mão</td>\n",
       "      <td>53</td>\n",
       "      <td>M</td>\n",
       "      <td>GO</td>\n",
       "      <td>NI</td>\n",
       "      <td>Sim</td>\n",
       "      <td>14</td>\n",
       "      <td>12</td>\n",
       "      <td>2018</td>\n",
       "    </tr>\n",
       "    <tr>\n",
       "      <th>2941</th>\n",
       "      <td>15/12/2018</td>\n",
       "      <td>Mobiliário</td>\n",
       "      <td>Cama</td>\n",
       "      <td>Cama</td>\n",
       "      <td>NI</td>\n",
       "      <td>Studio do sono</td>\n",
       "      <td>Não houve</td>\n",
       "      <td>NaN</td>\n",
       "      <td>43</td>\n",
       "      <td>F</td>\n",
       "      <td>RJ</td>\n",
       "      <td>NI</td>\n",
       "      <td>Não</td>\n",
       "      <td>15</td>\n",
       "      <td>12</td>\n",
       "      <td>2018</td>\n",
       "    </tr>\n",
       "    <tr>\n",
       "      <th>2945</th>\n",
       "      <td>21/12/2018</td>\n",
       "      <td>Serviço</td>\n",
       "      <td>Serviço automotivo</td>\n",
       "      <td>Abastecimento</td>\n",
       "      <td>NI</td>\n",
       "      <td>Trelrium Combustíveis</td>\n",
       "      <td>Não houve</td>\n",
       "      <td>NaN</td>\n",
       "      <td>68</td>\n",
       "      <td>M</td>\n",
       "      <td>PR</td>\n",
       "      <td>NI</td>\n",
       "      <td>Não</td>\n",
       "      <td>21</td>\n",
       "      <td>12</td>\n",
       "      <td>2018</td>\n",
       "    </tr>\n",
       "    <tr>\n",
       "      <th>2946</th>\n",
       "      <td>23/12/2018</td>\n",
       "      <td>Serviço</td>\n",
       "      <td>Serviço automotivo</td>\n",
       "      <td>Abastecimento</td>\n",
       "      <td>NI</td>\n",
       "      <td>Assis Brasil</td>\n",
       "      <td>Não houve</td>\n",
       "      <td>NaN</td>\n",
       "      <td>56</td>\n",
       "      <td>F</td>\n",
       "      <td>RS</td>\n",
       "      <td>NI</td>\n",
       "      <td>Não</td>\n",
       "      <td>23</td>\n",
       "      <td>12</td>\n",
       "      <td>2018</td>\n",
       "    </tr>\n",
       "    <tr>\n",
       "      <th>2947</th>\n",
       "      <td>27/12/2018</td>\n",
       "      <td>Artigo escolar</td>\n",
       "      <td>Mochila</td>\n",
       "      <td>Lancheira</td>\n",
       "      <td>NI</td>\n",
       "      <td>Sestini</td>\n",
       "      <td>Não houve</td>\n",
       "      <td>NaN</td>\n",
       "      <td>NI</td>\n",
       "      <td>F</td>\n",
       "      <td>SP</td>\n",
       "      <td>NI</td>\n",
       "      <td>Não</td>\n",
       "      <td>27</td>\n",
       "      <td>12</td>\n",
       "      <td>2018</td>\n",
       "    </tr>\n",
       "  </tbody>\n",
       "</table>\n",
       "<p>2835 rows × 16 columns</p>\n",
       "</div>"
      ],
      "text/plain": [
       "     DataRecebimentoRelato            Família               Subfamília  \\\n",
       "0               01/01/2002    Produto químico                 Saneante   \n",
       "1               18/03/2005   Produto infantil                Brinquedo   \n",
       "2               30/01/2006     Artigo escolar    Artigo para escrever    \n",
       "3               17/10/2006          Vestuário                  Calçado   \n",
       "4               20/10/2006           Alimento  Panificação e biscoitos   \n",
       "...                    ...                ...                      ...   \n",
       "2940            14/12/2018  Aparelho elétrico       Máquina industrial   \n",
       "2941            15/12/2018         Mobiliário                     Cama   \n",
       "2945            21/12/2018            Serviço       Serviço automotivo   \n",
       "2946            23/12/2018            Serviço       Serviço automotivo   \n",
       "2947            27/12/2018     Artigo escolar                  Mochila   \n",
       "\n",
       "                  Produto               Modelo                  Marca  \\\n",
       "0                  Formol                   NI                     NI   \n",
       "1                    Jogo          Pula Macaco                Estrela   \n",
       "2                 Grafite                   NI                 Pentel   \n",
       "3                 Sapato                    NI             West Coast   \n",
       "4               Biscoito                    NI               Parmalat   \n",
       "...                   ...                  ...                    ...   \n",
       "2940  Misturador de ração  Misturador de ração              Siltomac    \n",
       "2941                 Cama                   NI         Studio do sono   \n",
       "2945        Abastecimento                   NI  Trelrium Combustíveis   \n",
       "2946        Abastecimento                   NI           Assis Brasil   \n",
       "2947            Lancheira                   NI                Sestini   \n",
       "\n",
       "            Lesão            ParteDoCorpo Idade Sexo Estado  \\\n",
       "0     Intoxicação                    Boca    38    F     PB   \n",
       "1      Perfuração            Globo ocular     8    M     SP   \n",
       "2        Contusão            Globo ocular     9    M     DF   \n",
       "3        Contusão  Braço (Parte superior)    38    M     RS   \n",
       "4     Sufocamento                 Interna    19    M     SP   \n",
       "...           ...                     ...   ...  ...    ...   \n",
       "2940        Corte             Dedo da mão    53    M     GO   \n",
       "2941    Não houve                     NaN    43    F     RJ   \n",
       "2945    Não houve                     NaN    68    M     PR   \n",
       "2946    Não houve                     NaN    56    F     RS   \n",
       "2947    Não houve                     NaN    NI    F     SP   \n",
       "\n",
       "         NívelEscolaridade AusênciaTrabalho Dia Mes   Ano  \n",
       "0                       NI              Não  01  01  2002  \n",
       "1                       NI              Não  18  03  2005  \n",
       "2     Fundamental completo              Sim  30  01  2006  \n",
       "3           Médio completo              Sim  17  10  2006  \n",
       "4        Superior completo              Não  20  10  2006  \n",
       "...                    ...              ...  ..  ..   ...  \n",
       "2940                    NI              Sim  14  12  2018  \n",
       "2941                    NI              Não  15  12  2018  \n",
       "2945                    NI              Não  21  12  2018  \n",
       "2946                    NI              Não  23  12  2018  \n",
       "2947                    NI              Não  27  12  2018  \n",
       "\n",
       "[2835 rows x 16 columns]"
      ]
     },
     "execution_count": 8,
     "metadata": {},
     "output_type": "execute_result"
    }
   ],
   "source": [
    "# Separei a informação da data do recebimento do relato em 3: dia, mes e ano\n",
    "# como pode ser visto mais a frente essa separação é mais util para meus objetivos\n",
    "\n",
    "new_dataset[['Dia', 'Mes', 'Ano']] = new_dataset['DataRecebimentoRelato'].str.split('/', expand=True)\n",
    "\n",
    "new_dataset"
   ]
  },
  {
   "cell_type": "code",
   "execution_count": 9,
   "id": "7dd736c3",
   "metadata": {},
   "outputs": [],
   "source": [
    "# segundo os metadados do codigo, sempre que o acidente não resultar em lesão o registro é preenchido como \"NA\"\n",
    "# Para não perder uma grande quantidade de dados eu preferi mudar a classificação deles para \"Não resultante em lesão\"\n",
    "\n",
    "new_dataset.ParteDoCorpo.fillna('Não resultante em lesão', inplace=True)"
   ]
  },
  {
   "cell_type": "code",
   "execution_count": 10,
   "id": "ebbc903e",
   "metadata": {},
   "outputs": [],
   "source": [
    "# retirando linha em que há valores ausentes do dataset\n",
    "# Como são poucos a retirada deles não terá grande impacto na análise\n",
    "\n",
    "new_dataset.dropna(inplace=True)"
   ]
  },
  {
   "cell_type": "code",
   "execution_count": 11,
   "id": "ae7a23a3",
   "metadata": {},
   "outputs": [
    {
     "data": {
      "text/plain": [
       "DataRecebimentoRelato    0\n",
       "Família                  0\n",
       "Subfamília               0\n",
       "Produto                  0\n",
       "Modelo                   0\n",
       "Marca                    0\n",
       "Lesão                    0\n",
       "ParteDoCorpo             0\n",
       "Idade                    0\n",
       "Sexo                     0\n",
       "Estado                   0\n",
       "NívelEscolaridade        0\n",
       "AusênciaTrabalho         0\n",
       "Dia                      0\n",
       "Mes                      0\n",
       "Ano                      0\n",
       "dtype: int64"
      ]
     },
     "execution_count": 11,
     "metadata": {},
     "output_type": "execute_result"
    }
   ],
   "source": [
    "# Verificando se ainda há algum registro nulo.\n",
    "\n",
    "new_dataset.isnull().sum()"
   ]
  },
  {
   "cell_type": "code",
   "execution_count": 12,
   "id": "d080a594",
   "metadata": {},
   "outputs": [
    {
     "data": {
      "text/plain": [
       "(2754, 16)"
      ]
     },
     "execution_count": 12,
     "metadata": {},
     "output_type": "execute_result"
    }
   ],
   "source": [
    "# Ao final da Limpeza e tratamento dos dados esse é o tamanho do novo conjunto de dados.\n",
    "\n",
    "new_dataset.shape"
   ]
  },
  {
   "cell_type": "markdown",
   "id": "268c068e",
   "metadata": {},
   "source": [
    "## Análise Exploratória"
   ]
  },
  {
   "cell_type": "markdown",
   "id": "a10db6f6",
   "metadata": {},
   "source": [
    "## Gênero"
   ]
  },
  {
   "cell_type": "code",
   "execution_count": 13,
   "id": "5900be35",
   "metadata": {},
   "outputs": [
    {
     "data": {
      "text/plain": [
       "Sexo\n",
       "F    1435\n",
       "M    1319\n",
       "dtype: int64"
      ]
     },
     "execution_count": 13,
     "metadata": {},
     "output_type": "execute_result"
    }
   ],
   "source": [
    "# Verificando a distribuição dos gêneros do conjunto de dados\n",
    "\n",
    "new_dataset.value_counts('Sexo')"
   ]
  },
  {
   "cell_type": "code",
   "execution_count": 14,
   "id": "a417c703",
   "metadata": {},
   "outputs": [
    {
     "data": {
      "text/plain": [
       "<matplotlib.axes._subplots.AxesSubplot at 0xaf803fe190>"
      ]
     },
     "execution_count": 14,
     "metadata": {},
     "output_type": "execute_result"
    },
    {
     "data": {
      "image/png": "[encoded data removed]",
      "text/plain": [
       "<Figure size 432x288 with 1 Axes>"
      ]
     },
     "metadata": {
      "needs_background": "light"
     },
     "output_type": "display_data"
    }
   ],
   "source": [
    "# Representação gráfica da distribuição dos gêneros do conjunto de dados\n",
    "\n",
    "sns.countplot(new_dataset['Sexo'])"
   ]
  },
  {
   "cell_type": "code",
   "execution_count": 15,
   "id": "e2ed012b",
   "metadata": {},
   "outputs": [],
   "source": [
    "# para facilitar a análise criei um novo dataframe so com os registro de do gênero e da área da lesão\n",
    "\n",
    "sexo_lesao = pd.DataFrame(new_dataset, columns=['Sexo', 'ParteDoCorpo'])"
   ]
  },
  {
   "cell_type": "code",
   "execution_count": 16,
   "id": "7a0b452b",
   "metadata": {},
   "outputs": [],
   "source": [
    "# Lesões nas pessoas do gênero masculino\n",
    "Masculino = sexo_lesao.loc[sexo_lesao['Sexo']=='M']\n",
    "\n",
    "# Lesões nas pessoas do gênero feminino\n",
    "Feminino = sexo_lesao.loc[sexo_lesao['Sexo']=='F']"
   ]
  },
  {
   "cell_type": "code",
   "execution_count": 17,
   "id": "58946206",
   "metadata": {},
   "outputs": [
    {
     "data": {
      "text/plain": [
       "Sexo  ParteDoCorpo           \n",
       "M     Não resultante em lesão    416\n",
       "      Dedo da mão                131\n",
       "      Mão                        117\n",
       "      Interna                     95\n",
       "      25-50% do corpo             84\n",
       "      Cabeça                      56\n",
       "      Face                        54\n",
       "      Pé                          47\n",
       "      Boca                        39\n",
       "      Tronco (Parte superior)     31\n",
       "dtype: int64"
      ]
     },
     "execution_count": 17,
     "metadata": {},
     "output_type": "execute_result"
    }
   ],
   "source": [
    "# Lesões nas pessoas do gênero masculino\n",
    "\n",
    "Masculino.value_counts().head(10)"
   ]
  },
  {
   "cell_type": "code",
   "execution_count": 18,
   "id": "64f0900e",
   "metadata": {},
   "outputs": [
    {
     "data": {
      "text/plain": [
       "Sexo  ParteDoCorpo           \n",
       "F     Não resultante em lesão    359\n",
       "      Dedo da mão                217\n",
       "      Mão                        150\n",
       "      25-50% do corpo            103\n",
       "      Interna                    101\n",
       "      Cabeça                      61\n",
       "      Face                        59\n",
       "      Pé                          55\n",
       "      Boca                        39\n",
       "      Perna (Parte superior)      31\n",
       "dtype: int64"
      ]
     },
     "execution_count": 18,
     "metadata": {},
     "output_type": "execute_result"
    }
   ],
   "source": [
    "# Lesões nas pessoas do gênero feminino\n",
    "\n",
    "Feminino.value_counts().head(10)"
   ]
  },
  {
   "cell_type": "code",
   "execution_count": 19,
   "id": "f54ae295",
   "metadata": {},
   "outputs": [],
   "source": [
    "sexo_familia = pd.DataFrame(new_dataset, columns=['Sexo', 'Família'])\n",
    "\n",
    "# Produtos que mais causaram incedentes nas pessoas do gênero masculino\n",
    "Masculino = sexo_familia.loc[sexo_familia['Sexo']=='M']\n",
    "\n",
    "# Produtos que mais causaram incedentes nas pessoas do gênero feminino\n",
    "Feminino = sexo_familia.loc[sexo_familia['Sexo']=='F']"
   ]
  },
  {
   "cell_type": "code",
   "execution_count": 20,
   "id": "bc06a502",
   "metadata": {},
   "outputs": [
    {
     "data": {
      "text/plain": [
       "Sexo  Família            \n",
       "M     Produto infantil       229\n",
       "      Eletrodoméstico        174\n",
       "      Utensílio doméstico    148\n",
       "      Veículo                132\n",
       "      Aparelho elétrico      116\n",
       "      Embalagem              102\n",
       "      Mobiliário              90\n",
       "      Serviço                 89\n",
       "      Alimento                49\n",
       "      Construção civil        43\n",
       "dtype: int64"
      ]
     },
     "execution_count": 20,
     "metadata": {},
     "output_type": "execute_result"
    }
   ],
   "source": [
    "# Família de produtos que mais causaram incedentes nas pessoas do gênero masculino\n",
    "\n",
    "Masculino.value_counts().head(10)"
   ]
  },
  {
   "cell_type": "code",
   "execution_count": 21,
   "id": "ab3a6a86",
   "metadata": {},
   "outputs": [
    {
     "data": {
      "text/plain": [
       "Sexo  Família            \n",
       "F     Eletrodoméstico        254\n",
       "      Produto infantil       213\n",
       "      Utensílio doméstico    197\n",
       "      Embalagem              168\n",
       "      Mobiliário              92\n",
       "      Alimento                65\n",
       "      Serviço                 65\n",
       "      Cosmético               57\n",
       "      Aparelho elétrico       51\n",
       "      Vestuário               43\n",
       "dtype: int64"
      ]
     },
     "execution_count": 21,
     "metadata": {},
     "output_type": "execute_result"
    }
   ],
   "source": [
    "# Família de produtos que mais causaram incedentes nas pessoas do gênero feminino\n",
    "\n",
    "Feminino.value_counts().head(10)"
   ]
  },
  {
   "cell_type": "markdown",
   "id": "56af0080",
   "metadata": {},
   "source": [
    "## Idade"
   ]
  },
  {
   "cell_type": "code",
   "execution_count": 22,
   "id": "4ace2da7",
   "metadata": {},
   "outputs": [
    {
     "data": {
      "text/plain": [
       "1     96\n",
       "35    74\n",
       "3     63\n",
       "32    63\n",
       "33    61\n",
       "29    59\n",
       "37    58\n",
       "30    57\n",
       "34    56\n",
       "42    54\n",
       "Name: Idade, dtype: int64"
      ]
     },
     "execution_count": 22,
     "metadata": {},
     "output_type": "execute_result"
    }
   ],
   "source": [
    "# Precisei fazer duas alterações no conjunto e para isso usei um novo conjunto secundario para não alterar o que esta sendo usado:\n",
    "# 1) Como havia grande quantidade idades não informada precisei desconsiderar essa informação da análise\n",
    "# 2) Precisei desconsiderar a idade \"1,8\" que estava presente no conjunto, pois, ela sempre gerava algum problema\n",
    "\n",
    "new_dataset2 = new_dataset\n",
    "\n",
    "new_dataset2.drop(new_dataset2.loc[new_dataset2['Idade']=='NI'].index, inplace=True)\n",
    "new_dataset2.drop(new_dataset2.loc[new_dataset2['Idade']=='1,8'].index, inplace=True)\n",
    "\n",
    "new_dataset2['Idade'] = new_dataset2['Idade'].astype('int64', errors='ignore')\n",
    "\n",
    "new_dataset2.Idade.value_counts().head(10)"
   ]
  },
  {
   "cell_type": "code",
   "execution_count": 23,
   "id": "b7f2caec",
   "metadata": {},
   "outputs": [
    {
     "data": {
      "image/png": "[encoded data removed]",
      "text/plain": [
       "<Figure size 432x288 with 1 Axes>"
      ]
     },
     "metadata": {
      "needs_background": "light"
     },
     "output_type": "display_data"
    }
   ],
   "source": [
    "# Histograma da distribuição de frequencia das idades de pessoas vitimas de acidentes\n",
    "\n",
    "plt.hist(data=new_dataset2, bins=5, x='Idade')\n",
    "plt.title(\"Distribuição de frequencais por intevalo de idade\", fontsize = 15)\n",
    "plt.xlabel(\"Quatidade de ocorrências naquele intevalo de idade\", fontsize = 15)\n",
    "plt.ylabel(\"Intevalos\", fontsize = 15)\n",
    "plt.show()"
   ]
  },
  {
   "cell_type": "markdown",
   "id": "a5d758c5",
   "metadata": {},
   "source": [
    "## Família"
   ]
  },
  {
   "cell_type": "code",
   "execution_count": 24,
   "id": "23df410a",
   "metadata": {},
   "outputs": [
    {
     "data": {
      "text/plain": [
       "Produto infantil        352\n",
       "Eletrodoméstico         335\n",
       "Utensílio doméstico     273\n",
       "Embalagem               251\n",
       "Mobiliário              160\n",
       "Veículo                 154\n",
       "Serviço                 149\n",
       "Aparelho elétrico       144\n",
       "Alimento                110\n",
       "Construção civil         69\n",
       "Vestuário                62\n",
       "Higiene pessoal          57\n",
       "Cosmético                53\n",
       "Produto para a saúde     51\n",
       "Produto esportivo        31\n",
       "Produto químico          30\n",
       "Artigo de festa          30\n",
       "Medicamento              25\n",
       "Artigo escolar           12\n",
       "Name: Família, dtype: int64"
      ]
     },
     "execution_count": 24,
     "metadata": {},
     "output_type": "execute_result"
    }
   ],
   "source": [
    "# Distribuição das ocorrencias de acidentes por família de produto\n",
    "\n",
    "new_dataset['Família'].value_counts()"
   ]
  },
  {
   "cell_type": "code",
   "execution_count": 25,
   "id": "d9ebd5f1",
   "metadata": {},
   "outputs": [
    {
     "data": {
      "image/png": "[encoded data removed]",
      "text/plain": [
       "<Figure size 432x288 with 1 Axes>"
      ]
     },
     "metadata": {
      "needs_background": "light"
     },
     "output_type": "display_data"
    }
   ],
   "source": [
    "# Representação gráfica da distribuição das ocorrencias de acidentes por família de produto\n",
    "\n",
    "sns.countplot(data=new_dataset, y='Família', orient = \"h\")\n",
    "plt.title(\"Família do produto causador do acidente\", fontsize = 15)\n",
    "plt.xlabel(\"Quatidade de ocorrências com aquela família de produtos\", fontsize = 15)\n",
    "plt.ylabel(\"Famílias\", fontsize = 15)\n",
    "plt.show()"
   ]
  },
  {
   "cell_type": "markdown",
   "id": "b402116b",
   "metadata": {},
   "source": [
    "## Sub-Família"
   ]
  },
  {
   "cell_type": "code",
   "execution_count": 26,
   "id": "56a4b03e",
   "metadata": {},
   "outputs": [
    {
     "data": {
      "text/plain": [
       "Fogão                                  144\n",
       "Embalagem metálica                     142\n",
       "Brinquedo                              141\n",
       "Escada                                  82\n",
       "Cadeira                                 78\n",
       "Produto para transporte infantil        76\n",
       "Embalagem plástica                      73\n",
       "Mobiliário infantil                     68\n",
       "Eletrodoméstico portátil de cozinha     60\n",
       "Calçado                                 47\n",
       "Name: Subfamília, dtype: int64"
      ]
     },
     "execution_count": 26,
     "metadata": {},
     "output_type": "execute_result"
    }
   ],
   "source": [
    "# Distribuição das ocorrencias de acidentes por sub-família de produto\n",
    "# Essas são as 10 maiores ocorrecias\n",
    "\n",
    "new_dataset['Subfamília'].value_counts().head(10)"
   ]
  },
  {
   "cell_type": "markdown",
   "id": "9ff2a8ab",
   "metadata": {},
   "source": [
    "## Produto"
   ]
  },
  {
   "cell_type": "code",
   "execution_count": 27,
   "id": "14d22617",
   "metadata": {},
   "outputs": [
    {
     "data": {
      "text/plain": [
       "Lata                122\n",
       "Fogão               108\n",
       "Escada doméstica     80\n",
       "Garrafa              56\n",
       "Carrinho de bebê     43\n",
       "Berço                39\n",
       "Sapato               36\n",
       "Colchão              26\n",
       "Boneco(a)            25\n",
       "Refrigerador         25\n",
       "Name: Produto, dtype: int64"
      ]
     },
     "execution_count": 27,
     "metadata": {},
     "output_type": "execute_result"
    }
   ],
   "source": [
    "# Distribuição das ocorrencias de acidentes por produto\n",
    "# Essas são as 10 maiores ocorrecias\n",
    "\n",
    "new_dataset['Produto'].value_counts().head(10)"
   ]
  },
  {
   "cell_type": "markdown",
   "id": "0bf2e600",
   "metadata": {},
   "source": [
    "## Data"
   ]
  },
  {
   "cell_type": "code",
   "execution_count": 28,
   "id": "cac5512c",
   "metadata": {},
   "outputs": [],
   "source": [
    "# Como o conjunto de dados é majoritariamente composto de variaveis qualitativas eu precisei recorrer a outras transformações\n",
    "# para fazer a análise que eu queria.\n",
    "\n",
    "anos = list(set(new_dataset['Ano']))\n",
    "\n",
    "ocorrencias = new_dataset['Ano'].value_counts()\n",
    "\n",
    "anoOcorrencia = dict(ocorrencias)\n",
    "        \n",
    "data = pd.DataFrame({'Ano': anoOcorrencia.keys(), 'Ocorrencias': anoOcorrencia.values()})\n",
    "\n",
    "data = data.sort_values('Ano', ascending=True)"
   ]
  },
  {
   "cell_type": "code",
   "execution_count": 29,
   "id": "3dfe7d0b",
   "metadata": {},
   "outputs": [
    {
     "data": {
      "image/png": "[encoded data removed]",
      "text/plain": [
       "<Figure size 720x576 with 1 Axes>"
      ]
     },
     "metadata": {
      "needs_background": "light"
     },
     "output_type": "display_data"
    }
   ],
   "source": [
    "# Gráfico de linhas (lineplot)\n",
    "\n",
    "plt.figure(figsize=(10, 8))\n",
    "sns.lineplot(data=data, x= 'Ano', y='Ocorrencias')\n",
    "plt.title(\"Anos em que as ocorrências foram relatadas\", fontsize = 15)\n",
    "plt.xlabel(\"Quatidade de ocorrências no ano\", fontsize = 15)\n",
    "plt.ylabel(\"Anos\", fontsize = 15)\n",
    "plt.show()"
   ]
  },
  {
   "cell_type": "code",
   "execution_count": 30,
   "id": "6d9e88c3",
   "metadata": {},
   "outputs": [],
   "source": [
    "# Como o conjunto de dados é majoritariamente composto de variaveis qualitativas eu precisei recorrer a outras transformações\n",
    "# para fazer a análise que eu queria.\n",
    "\n",
    "meses = list(set(new_dataset['Mes']))\n",
    "\n",
    "ocorrencias = new_dataset['Mes'].value_counts()\n",
    "\n",
    "mesOcorrencia = dict(ocorrencias)\n",
    "        \n",
    "data = pd.DataFrame({'Mes': mesOcorrencia.keys(), 'Ocorrencias': mesOcorrencia.values()})\n",
    "\n",
    "data = data.sort_values('Mes', ascending=True)"
   ]
  },
  {
   "cell_type": "code",
   "execution_count": 31,
   "id": "1991a2a6",
   "metadata": {},
   "outputs": [
    {
     "data": {
      "image/png": "[encoded data removed]",
      "text/plain": [
       "<Figure size 720x576 with 1 Axes>"
      ]
     },
     "metadata": {
      "needs_background": "light"
     },
     "output_type": "display_data"
    }
   ],
   "source": [
    "# Gráfico de linhas (lineplot)\n",
    "\n",
    "plt.figure(figsize=(10, 8))\n",
    "sns.lineplot(data=data, x='Mes', y='Ocorrencias')\n",
    "plt.title(\"Meses do ano em que as ocorrências foram relatadas\", fontsize = 15)\n",
    "plt.xlabel(\"Meses\", fontsize = 15)\n",
    "plt.ylabel(\"Quatidade de ocorrências no mês\", fontsize = 15)\n",
    "plt.show()"
   ]
  },
  {
   "cell_type": "code",
   "execution_count": 32,
   "id": "c5138ee8",
   "metadata": {},
   "outputs": [],
   "source": [
    "# Como o conjunto de dados é majoritariamente composto de variaveis qualitativas eu precisei recorrer a outras transformações\n",
    "# para fazer a análise que eu queria.\n",
    "\n",
    "dias = list(set(new_dataset['Dia']))\n",
    "\n",
    "ocorrencias = new_dataset['Dia'].value_counts()\n",
    "\n",
    "diaOcorrencia = dict(ocorrencias)\n",
    "\n",
    "diaOcorrencia\n",
    "        \n",
    "data = pd.DataFrame({'Dia': diaOcorrencia.keys(), 'Ocorrencias': diaOcorrencia.values()})\n",
    "\n",
    "data = data.sort_values('Dia', ascending=True)"
   ]
  },
  {
   "cell_type": "code",
   "execution_count": 33,
   "id": "d9e1ce2e",
   "metadata": {},
   "outputs": [
    {
     "data": {
      "image/png": "[encoded data removed]",
      "text/plain": [
       "<Figure size 720x576 with 1 Axes>"
      ]
     },
     "metadata": {
      "needs_background": "light"
     },
     "output_type": "display_data"
    }
   ],
   "source": [
    "# Gráfico de linhas (lineplot)\n",
    "\n",
    "plt.figure(figsize=(10, 8))\n",
    "sns.lineplot(data=data, x='Dia', y='Ocorrencias')\n",
    "plt.title(\"Dias do mês em que as ocorrências foram relatadas\", fontsize = 15)\n",
    "plt.xlabel(\"Dias\", fontsize = 15)\n",
    "plt.ylabel(\"Quatidade de ocorrências no dia\", fontsize = 15)\n",
    "plt.show()"
   ]
  },
  {
   "cell_type": "markdown",
   "id": "e73e60a8",
   "metadata": {},
   "source": [
    "## Estado"
   ]
  },
  {
   "cell_type": "code",
   "execution_count": 34,
   "id": "5f99fa3b",
   "metadata": {},
   "outputs": [],
   "source": [
    "# Para não alterar o dataset que estou usando vou usar mais um secundario.\n",
    "new_dataset3 = new_dataset\n",
    "\n",
    "# Além disso, vou excluir aqueles acidentes que em que os estados não foram reltadaos\n",
    "new_dataset3.drop(new_dataset3[new_dataset3.Estado =='NI'].index, inplace=True)"
   ]
  },
  {
   "cell_type": "code",
   "execution_count": 35,
   "id": "6f5fc3a0",
   "metadata": {},
   "outputs": [],
   "source": [
    "# Criei uma nova tabela com duas colunas: Ocorrência x Estado\n",
    "\n",
    "local = dict(new_dataset3['Estado'].value_counts())\n",
    "Estado = local.keys()\n",
    "ocorrencias = local.values()\n",
    "\n",
    "\n",
    "localizacao = pd.DataFrame({'Estado': Estado, 'Ocorrencias': ocorrencias})"
   ]
  },
  {
   "cell_type": "code",
   "execution_count": 36,
   "id": "d8638541",
   "metadata": {},
   "outputs": [],
   "source": [
    "# Para apresesntar uma inofmrção mais objetiva preferi apresentar somente os 5 estados com mais ocorrências\n",
    "# os outros estados ficaram com a nomenclatura \"Outros\".\n",
    "\n",
    "principais = localizacao\n",
    "principais = principais[principais['Ocorrencias'] > 100]\n",
    "\n",
    "outros = localizacao\n",
    "outros = localizacao[localizacao['Ocorrencias'] < 100].sum()\n",
    "outros['Estado'] = 'Outros'"
   ]
  },
  {
   "cell_type": "code",
   "execution_count": 37,
   "id": "37b591c0",
   "metadata": {},
   "outputs": [],
   "source": [
    "# Para ficar mais facil ainda de vizualizar a informação calculei o percentual de cada estado\n",
    "\n",
    "nova = principais.append(outros, ignore_index = True)\n",
    "\n",
    "nova = nova.sort_values(by = 'Ocorrencias', ascending = False)\n",
    "nova['percentual'] = (nova['Ocorrencias'] / nova['Ocorrencias'].sum()) * 100"
   ]
  },
  {
   "cell_type": "code",
   "execution_count": 38,
   "id": "39606053",
   "metadata": {},
   "outputs": [],
   "source": [
    "# Legenda do gráfico que vai ser criado\n",
    "labels = [str(nova['Estado'][i])+' '+'['+str(round(nova['percentual'][i],2)) +'%'+']' for i in nova.index]"
   ]
  },
  {
   "cell_type": "code",
   "execution_count": 50,
   "id": "744ad306",
   "metadata": {},
   "outputs": [
    {
     "data": {
      "image/png": "[encoded data removed]",
      "text/plain": [
       "<Figure size 432x288 with 1 Axes>"
      ]
     },
     "metadata": {},
     "output_type": "display_data"
    }
   ],
   "source": [
    "#Gráfico de rosca do percentual da ocorrencia de acidentes por estado\n",
    "\n",
    "cs = cm.Set2(np.arange(100))\n",
    "\n",
    "f = plt.figure()\n",
    "\n",
    "plt.pie(nova['Ocorrencias'], labeldistance = 1, radius = 3, colors = cs, wedgeprops = dict(width = 0.8))\n",
    "plt.legend(labels = labels, loc = 'center', prop = {'size':12})\n",
    "plt.title(\"Estados com maiores ocorrências de acidentes\", loc = 'Center', fontdict = {'fontsize':20,'fontweight':20})\n",
    "plt.show()"
   ]
  }
 ],
 "metadata": {
  "kernelspec": {
   "display_name": "Python 3",
   "language": "python",
   "name": "python3"
  },
  "language_info": {
   "codemirror_mode": {
    "name": "ipython",
    "version": 3
   },
   "file_extension": ".py",
   "mimetype": "text/x-python",
   "name": "python",
   "nbconvert_exporter": "python",
   "pygments_lexer": "ipython3",
   "version": "3.8.8"
  }
 },
 "nbformat": 4,
 "nbformat_minor": 5
}
